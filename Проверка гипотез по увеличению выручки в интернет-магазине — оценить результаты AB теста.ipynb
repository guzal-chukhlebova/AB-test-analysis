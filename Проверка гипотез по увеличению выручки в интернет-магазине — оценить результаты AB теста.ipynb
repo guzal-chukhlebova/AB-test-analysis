{
 "cells": [
  {
   "cell_type": "markdown",
   "metadata": {
    "toc": true
   },
   "source": [
    "<h1>Table of Contents<span class=\"tocSkip\"></span></h1>\n",
    "<div class=\"toc\"><ul class=\"toc-item\"><li><span><a href=\"#Описание-данных\" data-toc-modified-id=\"Описание-данных-1\"><span class=\"toc-item-num\">1&nbsp;&nbsp;</span>Описание данных</a></span></li><li><span><a href=\"#Приоритизация-гипотез\" data-toc-modified-id=\"Приоритизация-гипотез-2\"><span class=\"toc-item-num\">2&nbsp;&nbsp;</span>Приоритизация гипотез</a></span><ul class=\"toc-item\"><li><span><a href=\"#Применение-фреймворка-ICE-для-приоритизации-гипотез\" data-toc-modified-id=\"Применение-фреймворка-ICE-для-приоритизации-гипотез-2.1\"><span class=\"toc-item-num\">2.1&nbsp;&nbsp;</span>Применение фреймворка ICE для приоритизации гипотез</a></span></li><li><span><a href=\"#Применение-фреймворка-RICE-для-приоритизации-гипотез\" data-toc-modified-id=\"Применение-фреймворка-RICE-для-приоритизации-гипотез-2.2\"><span class=\"toc-item-num\">2.2&nbsp;&nbsp;</span>Применение фреймворка RICE для приоритизации гипотез</a></span></li></ul></li><li><span><a href=\"#Анализ-A/B-теста\" data-toc-modified-id=\"Анализ-A/B-теста-3\"><span class=\"toc-item-num\">3&nbsp;&nbsp;</span>Анализ A/B-теста</a></span><ul class=\"toc-item\"><li><span><a href=\"#График-кумулятивной-выручки-по-группам\" data-toc-modified-id=\"График-кумулятивной-выручки-по-группам-3.1\"><span class=\"toc-item-num\">3.1&nbsp;&nbsp;</span>График кумулятивной выручки по группам</a></span></li><li><span><a href=\"#График-кумулятивного-среднего-чека-по-группам\" data-toc-modified-id=\"График-кумулятивного-среднего-чека-по-группам-3.2\"><span class=\"toc-item-num\">3.2&nbsp;&nbsp;</span>График кумулятивного среднего чека по группам</a></span></li><li><span><a href=\"#График-относительного-изменения-кумулятивного-среднего-чека-группы-B-к-группе-A\" data-toc-modified-id=\"График-относительного-изменения-кумулятивного-среднего-чека-группы-B-к-группе-A-3.3\"><span class=\"toc-item-num\">3.3&nbsp;&nbsp;</span>График относительного изменения кумулятивного среднего чека группы B к группе A</a></span></li><li><span><a href=\"#График-кумулятивной-конверсии-по-группам\" data-toc-modified-id=\"График-кумулятивной-конверсии-по-группам-3.4\"><span class=\"toc-item-num\">3.4&nbsp;&nbsp;</span>График кумулятивной конверсии по группам</a></span></li><li><span><a href=\"#График-относительного-изменения-кумулятивной-конверсии-группы-B-к-группе-A\" data-toc-modified-id=\"График-относительного-изменения-кумулятивной-конверсии-группы-B-к-группе-A-3.5\"><span class=\"toc-item-num\">3.5&nbsp;&nbsp;</span>График относительного изменения кумулятивной конверсии группы B к группе A</a></span></li><li><span><a href=\"#Точечный-график-количества-заказов-по-пользователям\" data-toc-modified-id=\"Точечный-график-количества-заказов-по-пользователям-3.6\"><span class=\"toc-item-num\">3.6&nbsp;&nbsp;</span>Точечный график количества заказов по пользователям</a></span></li><li><span><a href=\"#95-й-и-99-й-перцентили-количества-заказов-на-пользователя\" data-toc-modified-id=\"95-й-и-99-й-перцентили-количества-заказов-на-пользователя-3.7\"><span class=\"toc-item-num\">3.7&nbsp;&nbsp;</span>95-й и 99-й перцентили количества заказов на пользователя</a></span></li><li><span><a href=\"#Точечный-график-стоимостей-заказов\" data-toc-modified-id=\"Точечный-график-стоимостей-заказов-3.8\"><span class=\"toc-item-num\">3.8&nbsp;&nbsp;</span>Точечный график стоимостей заказов</a></span></li><li><span><a href=\"#95-й-и-99-й-перцентили-стоимости-заказов\" data-toc-modified-id=\"95-й-и-99-й-перцентили-стоимости-заказов-3.9\"><span class=\"toc-item-num\">3.9&nbsp;&nbsp;</span>95-й и 99-й перцентили стоимости заказов</a></span></li><li><span><a href=\"#Статистическая-значимость-различий-в-конверсии-между-группами-по-«сырым»-данным\" data-toc-modified-id=\"Статистическая-значимость-различий-в-конверсии-между-группами-по-«сырым»-данным-3.10\"><span class=\"toc-item-num\">3.10&nbsp;&nbsp;</span>Статистическая значимость различий в конверсии между группами по «сырым» данным</a></span></li><li><span><a href=\"#Статистическая-значимость-различий-в-среднем-чеке-заказа-между-группами-по-«сырым»-данным\" data-toc-modified-id=\"Статистическая-значимость-различий-в-среднем-чеке-заказа-между-группами-по-«сырым»-данным-3.11\"><span class=\"toc-item-num\">3.11&nbsp;&nbsp;</span>Статистическая значимость различий в среднем чеке заказа между группами по «сырым» данным</a></span></li><li><span><a href=\"#Статистическая-значимость-различий-в-конверсии-между-группами-по-«очищенным»-данным\" data-toc-modified-id=\"Статистическая-значимость-различий-в-конверсии-между-группами-по-«очищенным»-данным-3.12\"><span class=\"toc-item-num\">3.12&nbsp;&nbsp;</span>Статистическая значимость различий в конверсии между группами по «очищенным» данным</a></span></li><li><span><a href=\"#Статистическая-значимость-различий-в-среднем-чеке-заказа-между-группами-по-«очищенным»-данным\" data-toc-modified-id=\"Статистическая-значимость-различий-в-среднем-чеке-заказа-между-группами-по-«очищенным»-данным-3.13\"><span class=\"toc-item-num\">3.13&nbsp;&nbsp;</span>Статистическая значимость различий в среднем чеке заказа между группами по «очищенным» данным</a></span></li><li><span><a href=\"#Вывод\" data-toc-modified-id=\"Вывод-3.14\"><span class=\"toc-item-num\">3.14&nbsp;&nbsp;</span>Вывод</a></span></li></ul></li></ul></div>"
   ]
  },
  {
   "cell_type": "markdown",
   "metadata": {},
   "source": [
    "## Описание данных"
   ]
  },
  {
   "cell_type": "markdown",
   "metadata": {},
   "source": [
    "В работе представлены данные  крупного интернет-магазина. Вместе с отделом маркетинга был подготовлен список гипотез для увеличения выручки. \n",
    "\n",
    "Основные задачи:\n",
    "1. Приоритизировать гипотезы;\n",
    "2. Запустить A/B-тест;\n",
    "3. Проанализируйте результаты."
   ]
  },
  {
   "cell_type": "markdown",
   "metadata": {},
   "source": [
    "Описание данных hypothesis:\n",
    "* Hypothesis — краткое описание гипотезы;\n",
    "* Reach — охват пользователей по 10-балльной шкале;\n",
    "* Impact — влияние на пользователей по 10-балльной шкале;\n",
    "* Confidence — уверенность в гипотезе по 10-балльной шкале;\n",
    "* Efforts — затраты ресурсов на проверку гипотезы по 10-балльной шкале. Чем больше значение Efforts, тем дороже проверка гипотезы.\n",
    "\n",
    "\n",
    "Описание данных orders:\n",
    "* transactionId — идентификатор заказа;\n",
    "* visitorId — идентификатор пользователя, совершившего заказ;\n",
    "* date — дата, когда был совершён заказ;\n",
    "* revenue — выручка заказа;\n",
    "* group — группа A/B-теста, в которую попал заказ.\n",
    "\n",
    "\n",
    "Описание данных visitors:\n",
    "* date — дата;\n",
    "* group — группа A/B-теста;\n",
    "* visitors — количество пользователей в указанную дату в указанной группе A/B-теста"
   ]
  },
  {
   "cell_type": "markdown",
   "metadata": {},
   "source": [
    "## Приоритизация гипотез"
   ]
  },
  {
   "cell_type": "code",
   "execution_count": 18,
   "metadata": {},
   "outputs": [],
   "source": [
    "import pandas as pd\n",
    "from scipy import stats as stats\n",
    "import numpy as np\n",
    "import math as mth\n",
    "import datetime as dt\n",
    "import matplotlib.pyplot as plt\n",
    "import warnings\n",
    "pd.set_option(\"max_colwidth\", 150)\n",
    "pd.set_option('display.float_format', '{:,.2f}'.format)\n",
    "pd.set_option('display.max_columns', None)\n",
    "warnings.filterwarnings('ignore')"
   ]
  },
  {
   "cell_type": "code",
   "execution_count": 19,
   "metadata": {},
   "outputs": [
    {
     "data": {
      "text/html": [
       "<div>\n",
       "<style scoped>\n",
       "    .dataframe tbody tr th:only-of-type {\n",
       "        vertical-align: middle;\n",
       "    }\n",
       "\n",
       "    .dataframe tbody tr th {\n",
       "        vertical-align: top;\n",
       "    }\n",
       "\n",
       "    .dataframe thead th {\n",
       "        text-align: right;\n",
       "    }\n",
       "</style>\n",
       "<table border=\"1\" class=\"dataframe\">\n",
       "  <thead>\n",
       "    <tr style=\"text-align: right;\">\n",
       "      <th></th>\n",
       "      <th>hypothesis</th>\n",
       "      <th>reach</th>\n",
       "      <th>impact</th>\n",
       "      <th>confidence</th>\n",
       "      <th>efforts</th>\n",
       "    </tr>\n",
       "  </thead>\n",
       "  <tbody>\n",
       "    <tr>\n",
       "      <th>0</th>\n",
       "      <td>Добавить два новых канала привлечения трафика, что позволит привлекать на 30% больше пользователей</td>\n",
       "      <td>3</td>\n",
       "      <td>10</td>\n",
       "      <td>8</td>\n",
       "      <td>6</td>\n",
       "    </tr>\n",
       "    <tr>\n",
       "      <th>1</th>\n",
       "      <td>Запустить собственную службу доставки, что сократит срок доставки заказов</td>\n",
       "      <td>2</td>\n",
       "      <td>5</td>\n",
       "      <td>4</td>\n",
       "      <td>10</td>\n",
       "    </tr>\n",
       "    <tr>\n",
       "      <th>2</th>\n",
       "      <td>Добавить блоки рекомендаций товаров на сайт интернет магазина, чтобы повысить конверсию и средний чек заказа</td>\n",
       "      <td>8</td>\n",
       "      <td>3</td>\n",
       "      <td>7</td>\n",
       "      <td>3</td>\n",
       "    </tr>\n",
       "    <tr>\n",
       "      <th>3</th>\n",
       "      <td>Изменить структура категорий, что увеличит конверсию, т.к. пользователи быстрее найдут нужный товар</td>\n",
       "      <td>8</td>\n",
       "      <td>3</td>\n",
       "      <td>3</td>\n",
       "      <td>8</td>\n",
       "    </tr>\n",
       "    <tr>\n",
       "      <th>4</th>\n",
       "      <td>Изменить цвет фона главной страницы, чтобы увеличить вовлеченность пользователей</td>\n",
       "      <td>3</td>\n",
       "      <td>1</td>\n",
       "      <td>1</td>\n",
       "      <td>1</td>\n",
       "    </tr>\n",
       "    <tr>\n",
       "      <th>5</th>\n",
       "      <td>Добавить страницу отзывов клиентов о магазине, что позволит увеличить количество заказов</td>\n",
       "      <td>3</td>\n",
       "      <td>2</td>\n",
       "      <td>2</td>\n",
       "      <td>3</td>\n",
       "    </tr>\n",
       "    <tr>\n",
       "      <th>6</th>\n",
       "      <td>Показать на главной странице баннеры с актуальными акциями и распродажами, чтобы увеличить конверсию</td>\n",
       "      <td>5</td>\n",
       "      <td>3</td>\n",
       "      <td>8</td>\n",
       "      <td>3</td>\n",
       "    </tr>\n",
       "    <tr>\n",
       "      <th>7</th>\n",
       "      <td>Добавить форму подписки на все основные страницы, чтобы собрать базу клиентов для email-рассылок</td>\n",
       "      <td>10</td>\n",
       "      <td>7</td>\n",
       "      <td>8</td>\n",
       "      <td>5</td>\n",
       "    </tr>\n",
       "    <tr>\n",
       "      <th>8</th>\n",
       "      <td>Запустить акцию, дающую скидку на товар в день рождения</td>\n",
       "      <td>1</td>\n",
       "      <td>9</td>\n",
       "      <td>9</td>\n",
       "      <td>5</td>\n",
       "    </tr>\n",
       "  </tbody>\n",
       "</table>\n",
       "</div>"
      ],
      "text/plain": [
       "                                                                                                     hypothesis  \\\n",
       "0            Добавить два новых канала привлечения трафика, что позволит привлекать на 30% больше пользователей   \n",
       "1                                     Запустить собственную службу доставки, что сократит срок доставки заказов   \n",
       "2  Добавить блоки рекомендаций товаров на сайт интернет магазина, чтобы повысить конверсию и средний чек заказа   \n",
       "3           Изменить структура категорий, что увеличит конверсию, т.к. пользователи быстрее найдут нужный товар   \n",
       "4                              Изменить цвет фона главной страницы, чтобы увеличить вовлеченность пользователей   \n",
       "5                      Добавить страницу отзывов клиентов о магазине, что позволит увеличить количество заказов   \n",
       "6          Показать на главной странице баннеры с актуальными акциями и распродажами, чтобы увеличить конверсию   \n",
       "7              Добавить форму подписки на все основные страницы, чтобы собрать базу клиентов для email-рассылок   \n",
       "8                                                       Запустить акцию, дающую скидку на товар в день рождения   \n",
       "\n",
       "   reach  impact  confidence  efforts  \n",
       "0      3      10           8        6  \n",
       "1      2       5           4       10  \n",
       "2      8       3           7        3  \n",
       "3      8       3           3        8  \n",
       "4      3       1           1        1  \n",
       "5      3       2           2        3  \n",
       "6      5       3           8        3  \n",
       "7     10       7           8        5  \n",
       "8      1       9           9        5  "
      ]
     },
     "execution_count": 19,
     "metadata": {},
     "output_type": "execute_result"
    }
   ],
   "source": [
    "hypothesis = pd.read_csv('hypothesis.csv')\n",
    "hypothesis.columns = hypothesis.columns.str.lower()\n",
    "hypothesis.head(10)"
   ]
  },
  {
   "cell_type": "markdown",
   "metadata": {},
   "source": [
    "### Применение фреймворка ICE для приоритизации гипотез"
   ]
  },
  {
   "cell_type": "code",
   "execution_count": 20,
   "metadata": {},
   "outputs": [
    {
     "name": "stdout",
     "output_type": "stream",
     "text": [
      "                                                                                                     hypothesis  \\\n",
      "8                                                       Запустить акцию, дающую скидку на товар в день рождения   \n",
      "0            Добавить два новых канала привлечения трафика, что позволит привлекать на 30% больше пользователей   \n",
      "7              Добавить форму подписки на все основные страницы, чтобы собрать базу клиентов для email-рассылок   \n",
      "6          Показать на главной странице баннеры с актуальными акциями и распродажами, чтобы увеличить конверсию   \n",
      "2  Добавить блоки рекомендаций товаров на сайт интернет магазина, чтобы повысить конверсию и средний чек заказа   \n",
      "1                                     Запустить собственную службу доставки, что сократит срок доставки заказов   \n",
      "5                      Добавить страницу отзывов клиентов о магазине, что позволит увеличить количество заказов   \n",
      "3           Изменить структура категорий, что увеличит конверсию, т.к. пользователи быстрее найдут нужный товар   \n",
      "4                              Изменить цвет фона главной страницы, чтобы увеличить вовлеченность пользователей   \n",
      "\n",
      "    ICE  \n",
      "8 16.20  \n",
      "0 13.33  \n",
      "7 11.20  \n",
      "6  8.00  \n",
      "2  7.00  \n",
      "1  2.00  \n",
      "5  1.33  \n",
      "3  1.12  \n",
      "4  1.00  \n"
     ]
    }
   ],
   "source": [
    "hypothesis['ICE']=hypothesis['impact'] * hypothesis['confidence']/hypothesis['efforts']\n",
    "print(hypothesis[['hypothesis', 'ICE']].sort_values(by='ICE', ascending=False))"
   ]
  },
  {
   "cell_type": "markdown",
   "metadata": {},
   "source": [
    "Фреймворк ICE состоит из трёх компонентов:\n",
    "* Impact — насколько сильно изменение повлияет на пользователей, их опыт и удовлетворение от продукта;\n",
    "* Confidence — насколько вы уверены, что это изменение повлияет на пользователей именно так;\n",
    "* Efforts — сколько стоит протестировать эту гипотезу.\n",
    "\n",
    "\n",
    "Наиболее перспективные гипотезы по ICE: 8, 0, 7, 6, 2."
   ]
  },
  {
   "cell_type": "markdown",
   "metadata": {},
   "source": [
    "### Применение фреймворка RICE для приоритизации гипотез"
   ]
  },
  {
   "cell_type": "code",
   "execution_count": 21,
   "metadata": {},
   "outputs": [
    {
     "name": "stdout",
     "output_type": "stream",
     "text": [
      "                                                                                                     hypothesis  \\\n",
      "7              Добавить форму подписки на все основные страницы, чтобы собрать базу клиентов для email-рассылок   \n",
      "2  Добавить блоки рекомендаций товаров на сайт интернет магазина, чтобы повысить конверсию и средний чек заказа   \n",
      "0            Добавить два новых канала привлечения трафика, что позволит привлекать на 30% больше пользователей   \n",
      "6          Показать на главной странице баннеры с актуальными акциями и распродажами, чтобы увеличить конверсию   \n",
      "8                                                       Запустить акцию, дающую скидку на товар в день рождения   \n",
      "3           Изменить структура категорий, что увеличит конверсию, т.к. пользователи быстрее найдут нужный товар   \n",
      "1                                     Запустить собственную службу доставки, что сократит срок доставки заказов   \n",
      "5                      Добавить страницу отзывов клиентов о магазине, что позволит увеличить количество заказов   \n",
      "4                              Изменить цвет фона главной страницы, чтобы увеличить вовлеченность пользователей   \n",
      "\n",
      "    RICE  \n",
      "7 112.00  \n",
      "2  56.00  \n",
      "0  40.00  \n",
      "6  40.00  \n",
      "8  16.20  \n",
      "3   9.00  \n",
      "1   4.00  \n",
      "5   4.00  \n",
      "4   3.00  \n"
     ]
    }
   ],
   "source": [
    "hypothesis['RICE'] = hypothesis['reach'] * hypothesis['impact'] * hypothesis['confidence']/hypothesis['efforts']\n",
    "print(hypothesis[['hypothesis', 'RICE']].sort_values(by='RICE', ascending=False))"
   ]
  },
  {
   "cell_type": "markdown",
   "metadata": {},
   "source": [
    "Фреймворк RICE состоит из четырёх компонентов:\n",
    "* Reach — скольких пользователей затронет изменение, которое вы хотите внести;\n",
    "* Impact — насколько сильно изменение повлияет на пользователей, их опыт и удовлетворение от продукта;\n",
    "* Confidence — насколько вы уверены, что это изменение повлияет на пользователей именно так;\n",
    "* Efforts — сколько стоит протестировать эту гипотезу.\n",
    "\n",
    "Наиболее перспективные гипотезы по RICE: 7, 2, 0, 6, 8. Состав гипотез с наибольшим приоритетом по ICE и RICE одинаков. Однако на первом месте по RICE гипотеза 7 в связи с тем, что имеет параметр Reach равный 10, в то время как у других гипотез (в особенности у гипотезы 8) он меньше. "
   ]
  },
  {
   "cell_type": "markdown",
   "metadata": {},
   "source": [
    "## Анализ A/B-теста"
   ]
  },
  {
   "cell_type": "code",
   "execution_count": 22,
   "metadata": {},
   "outputs": [
    {
     "data": {
      "text/html": [
       "<div>\n",
       "<style scoped>\n",
       "    .dataframe tbody tr th:only-of-type {\n",
       "        vertical-align: middle;\n",
       "    }\n",
       "\n",
       "    .dataframe tbody tr th {\n",
       "        vertical-align: top;\n",
       "    }\n",
       "\n",
       "    .dataframe thead th {\n",
       "        text-align: right;\n",
       "    }\n",
       "</style>\n",
       "<table border=\"1\" class=\"dataframe\">\n",
       "  <thead>\n",
       "    <tr style=\"text-align: right;\">\n",
       "      <th></th>\n",
       "      <th>transactionid</th>\n",
       "      <th>visitorid</th>\n",
       "      <th>date</th>\n",
       "      <th>revenue</th>\n",
       "      <th>group</th>\n",
       "    </tr>\n",
       "  </thead>\n",
       "  <tbody>\n",
       "    <tr>\n",
       "      <th>0</th>\n",
       "      <td>3667963787</td>\n",
       "      <td>3312258926</td>\n",
       "      <td>2019-08-15</td>\n",
       "      <td>1650</td>\n",
       "      <td>B</td>\n",
       "    </tr>\n",
       "    <tr>\n",
       "      <th>1</th>\n",
       "      <td>2804400009</td>\n",
       "      <td>3642806036</td>\n",
       "      <td>2019-08-15</td>\n",
       "      <td>730</td>\n",
       "      <td>B</td>\n",
       "    </tr>\n",
       "    <tr>\n",
       "      <th>2</th>\n",
       "      <td>2961555356</td>\n",
       "      <td>4069496402</td>\n",
       "      <td>2019-08-15</td>\n",
       "      <td>400</td>\n",
       "      <td>A</td>\n",
       "    </tr>\n",
       "    <tr>\n",
       "      <th>3</th>\n",
       "      <td>3797467345</td>\n",
       "      <td>1196621759</td>\n",
       "      <td>2019-08-15</td>\n",
       "      <td>9759</td>\n",
       "      <td>B</td>\n",
       "    </tr>\n",
       "    <tr>\n",
       "      <th>4</th>\n",
       "      <td>2282983706</td>\n",
       "      <td>2322279887</td>\n",
       "      <td>2019-08-15</td>\n",
       "      <td>2308</td>\n",
       "      <td>B</td>\n",
       "    </tr>\n",
       "  </tbody>\n",
       "</table>\n",
       "</div>"
      ],
      "text/plain": [
       "   transactionid   visitorid        date  revenue group\n",
       "0     3667963787  3312258926  2019-08-15     1650     B\n",
       "1     2804400009  3642806036  2019-08-15      730     B\n",
       "2     2961555356  4069496402  2019-08-15      400     A\n",
       "3     3797467345  1196621759  2019-08-15     9759     B\n",
       "4     2282983706  2322279887  2019-08-15     2308     B"
      ]
     },
     "execution_count": 22,
     "metadata": {},
     "output_type": "execute_result"
    }
   ],
   "source": [
    "orders = pd.read_csv('orders.csv')\n",
    "orders.columns = orders.columns.str.lower()\n",
    "orders.head()"
   ]
  },
  {
   "cell_type": "code",
   "execution_count": 23,
   "metadata": {},
   "outputs": [],
   "source": [
    "orders = orders.rename(columns={'transactionid':'orderId','visitorid':'userId'})"
   ]
  },
  {
   "cell_type": "code",
   "execution_count": 24,
   "metadata": {},
   "outputs": [
    {
     "data": {
      "text/html": [
       "<div>\n",
       "<style scoped>\n",
       "    .dataframe tbody tr th:only-of-type {\n",
       "        vertical-align: middle;\n",
       "    }\n",
       "\n",
       "    .dataframe tbody tr th {\n",
       "        vertical-align: top;\n",
       "    }\n",
       "\n",
       "    .dataframe thead th {\n",
       "        text-align: right;\n",
       "    }\n",
       "</style>\n",
       "<table border=\"1\" class=\"dataframe\">\n",
       "  <thead>\n",
       "    <tr style=\"text-align: right;\">\n",
       "      <th></th>\n",
       "      <th>date</th>\n",
       "      <th>group</th>\n",
       "      <th>visitors</th>\n",
       "    </tr>\n",
       "  </thead>\n",
       "  <tbody>\n",
       "    <tr>\n",
       "      <th>0</th>\n",
       "      <td>2019-08-01</td>\n",
       "      <td>A</td>\n",
       "      <td>719</td>\n",
       "    </tr>\n",
       "    <tr>\n",
       "      <th>1</th>\n",
       "      <td>2019-08-02</td>\n",
       "      <td>A</td>\n",
       "      <td>619</td>\n",
       "    </tr>\n",
       "    <tr>\n",
       "      <th>2</th>\n",
       "      <td>2019-08-03</td>\n",
       "      <td>A</td>\n",
       "      <td>507</td>\n",
       "    </tr>\n",
       "    <tr>\n",
       "      <th>3</th>\n",
       "      <td>2019-08-04</td>\n",
       "      <td>A</td>\n",
       "      <td>717</td>\n",
       "    </tr>\n",
       "    <tr>\n",
       "      <th>4</th>\n",
       "      <td>2019-08-05</td>\n",
       "      <td>A</td>\n",
       "      <td>756</td>\n",
       "    </tr>\n",
       "  </tbody>\n",
       "</table>\n",
       "</div>"
      ],
      "text/plain": [
       "         date group  visitors\n",
       "0  2019-08-01     A       719\n",
       "1  2019-08-02     A       619\n",
       "2  2019-08-03     A       507\n",
       "3  2019-08-04     A       717\n",
       "4  2019-08-05     A       756"
      ]
     },
     "execution_count": 24,
     "metadata": {},
     "output_type": "execute_result"
    }
   ],
   "source": [
    "visitors = pd.read_csv('visitors.csv')\n",
    "visitors.columns = visitors.columns.str.lower()\n",
    "visitors.head()"
   ]
  },
  {
   "cell_type": "code",
   "execution_count": 25,
   "metadata": {},
   "outputs": [],
   "source": [
    "visitors['date'] = pd.to_datetime(visitors['date'])\n",
    "orders['date'] = pd.to_datetime(orders['date'])"
   ]
  },
  {
   "cell_type": "code",
   "execution_count": 26,
   "metadata": {},
   "outputs": [
    {
     "name": "stdout",
     "output_type": "stream",
     "text": [
      "<class 'pandas.core.frame.DataFrame'>\n",
      "RangeIndex: 1197 entries, 0 to 1196\n",
      "Data columns (total 5 columns):\n",
      " #   Column   Non-Null Count  Dtype         \n",
      "---  ------   --------------  -----         \n",
      " 0   orderId  1197 non-null   int64         \n",
      " 1   userId   1197 non-null   int64         \n",
      " 2   date     1197 non-null   datetime64[ns]\n",
      " 3   revenue  1197 non-null   int64         \n",
      " 4   group    1197 non-null   object        \n",
      "dtypes: datetime64[ns](1), int64(3), object(1)\n",
      "memory usage: 46.9+ KB\n"
     ]
    },
    {
     "data": {
      "text/plain": [
       "None"
      ]
     },
     "metadata": {},
     "output_type": "display_data"
    },
    {
     "name": "stdout",
     "output_type": "stream",
     "text": [
      "<class 'pandas.core.frame.DataFrame'>\n",
      "RangeIndex: 62 entries, 0 to 61\n",
      "Data columns (total 3 columns):\n",
      " #   Column    Non-Null Count  Dtype         \n",
      "---  ------    --------------  -----         \n",
      " 0   date      62 non-null     datetime64[ns]\n",
      " 1   group     62 non-null     object        \n",
      " 2   visitors  62 non-null     int64         \n",
      "dtypes: datetime64[ns](1), int64(1), object(1)\n",
      "memory usage: 1.6+ KB\n"
     ]
    },
    {
     "data": {
      "text/plain": [
       "None"
      ]
     },
     "metadata": {},
     "output_type": "display_data"
    }
   ],
   "source": [
    "display(orders.info())\n",
    "display(visitors.info())"
   ]
  },
  {
   "cell_type": "code",
   "execution_count": 27,
   "metadata": {},
   "outputs": [
    {
     "data": {
      "text/plain": [
       "orderId    0\n",
       "userId     0\n",
       "date       0\n",
       "revenue    0\n",
       "group      0\n",
       "dtype: int64"
      ]
     },
     "metadata": {},
     "output_type": "display_data"
    },
    {
     "data": {
      "text/plain": [
       "0"
      ]
     },
     "metadata": {},
     "output_type": "display_data"
    },
    {
     "data": {
      "text/plain": [
       "date        0\n",
       "group       0\n",
       "visitors    0\n",
       "dtype: int64"
      ]
     },
     "metadata": {},
     "output_type": "display_data"
    },
    {
     "data": {
      "text/plain": [
       "0"
      ]
     },
     "metadata": {},
     "output_type": "display_data"
    }
   ],
   "source": [
    "table = [orders, visitors]\n",
    "for name in table:\n",
    "    display(name.isna().sum())\n",
    "    display()\n",
    "    display(name.duplicated().sum())\n",
    "    display()"
   ]
  },
  {
   "cell_type": "markdown",
   "metadata": {},
   "source": [
    "Пропуски и дубликаты в данных отсутствуют."
   ]
  },
  {
   "cell_type": "markdown",
   "metadata": {},
   "source": [
    "Проверим наличие пользователей, которые попали в две группы одновременно."
   ]
  },
  {
   "cell_type": "code",
   "execution_count": 28,
   "metadata": {},
   "outputs": [
    {
     "data": {
      "text/html": [
       "<div>\n",
       "<style scoped>\n",
       "    .dataframe tbody tr th:only-of-type {\n",
       "        vertical-align: middle;\n",
       "    }\n",
       "\n",
       "    .dataframe tbody tr th {\n",
       "        vertical-align: top;\n",
       "    }\n",
       "\n",
       "    .dataframe thead th {\n",
       "        text-align: right;\n",
       "    }\n",
       "</style>\n",
       "<table border=\"1\" class=\"dataframe\">\n",
       "  <thead>\n",
       "    <tr style=\"text-align: right;\">\n",
       "      <th></th>\n",
       "      <th>group_count</th>\n",
       "      <th>group_names</th>\n",
       "    </tr>\n",
       "    <tr>\n",
       "      <th>userId</th>\n",
       "      <th></th>\n",
       "      <th></th>\n",
       "    </tr>\n",
       "  </thead>\n",
       "  <tbody>\n",
       "    <tr>\n",
       "      <th>8300375</th>\n",
       "      <td>2</td>\n",
       "      <td>[B, A]</td>\n",
       "    </tr>\n",
       "    <tr>\n",
       "      <th>199603092</th>\n",
       "      <td>2</td>\n",
       "      <td>[A, B]</td>\n",
       "    </tr>\n",
       "    <tr>\n",
       "      <th>232979603</th>\n",
       "      <td>2</td>\n",
       "      <td>[B, A]</td>\n",
       "    </tr>\n",
       "    <tr>\n",
       "      <th>237748145</th>\n",
       "      <td>2</td>\n",
       "      <td>[B, A]</td>\n",
       "    </tr>\n",
       "    <tr>\n",
       "      <th>276558944</th>\n",
       "      <td>2</td>\n",
       "      <td>[B, A]</td>\n",
       "    </tr>\n",
       "  </tbody>\n",
       "</table>\n",
       "</div>"
      ],
      "text/plain": [
       "           group_count group_names\n",
       "userId                            \n",
       "8300375              2      [B, A]\n",
       "199603092            2      [A, B]\n",
       "232979603            2      [B, A]\n",
       "237748145            2      [B, A]\n",
       "276558944            2      [B, A]"
      ]
     },
     "metadata": {},
     "output_type": "display_data"
    },
    {
     "name": "stdout",
     "output_type": "stream",
     "text": [
      "<class 'pandas.core.frame.DataFrame'>\n",
      "Int64Index: 58 entries, 8300375 to 4266935830\n",
      "Data columns (total 2 columns):\n",
      " #   Column       Non-Null Count  Dtype \n",
      "---  ------       --------------  ----- \n",
      " 0   group_count  58 non-null     int64 \n",
      " 1   group_names  58 non-null     object\n",
      "dtypes: int64(1), object(1)\n",
      "memory usage: 1.4+ KB\n"
     ]
    },
    {
     "data": {
      "text/plain": [
       "1031"
      ]
     },
     "execution_count": 28,
     "metadata": {},
     "output_type": "execute_result"
    }
   ],
   "source": [
    "duplicated_user = orders.groupby('userId').agg({'group':['nunique','unique']})\n",
    "duplicated_user.columns = ['group_count','group_names']\n",
    "duplicated_user = duplicated_user.query('group_count > 1')\n",
    "display(duplicated_user.head())\n",
    "duplicated_user.info()\n",
    "len(orders['userId'].value_counts())"
   ]
  },
  {
   "cell_type": "markdown",
   "metadata": {},
   "source": [
    "Обнаружены 58 платящих пользователей, которые находятся в двух группах одновременно. В данном случае их можно оставить, но результатам теста есть основания не доверять."
   ]
  },
  {
   "cell_type": "code",
   "execution_count": 29,
   "metadata": {},
   "outputs": [
    {
     "data": {
      "text/html": [
       "<div>\n",
       "<style scoped>\n",
       "    .dataframe tbody tr th:only-of-type {\n",
       "        vertical-align: middle;\n",
       "    }\n",
       "\n",
       "    .dataframe tbody tr th {\n",
       "        vertical-align: top;\n",
       "    }\n",
       "\n",
       "    .dataframe thead th {\n",
       "        text-align: right;\n",
       "    }\n",
       "</style>\n",
       "<table border=\"1\" class=\"dataframe\">\n",
       "  <thead>\n",
       "    <tr style=\"text-align: right;\">\n",
       "      <th></th>\n",
       "      <th>orderId</th>\n",
       "      <th>userId</th>\n",
       "      <th>date</th>\n",
       "      <th>revenue</th>\n",
       "      <th>group</th>\n",
       "    </tr>\n",
       "  </thead>\n",
       "  <tbody>\n",
       "    <tr>\n",
       "      <th>0</th>\n",
       "      <td>3667963787</td>\n",
       "      <td>3312258926</td>\n",
       "      <td>2019-08-15</td>\n",
       "      <td>1650</td>\n",
       "      <td>B</td>\n",
       "    </tr>\n",
       "    <tr>\n",
       "      <th>1</th>\n",
       "      <td>2804400009</td>\n",
       "      <td>3642806036</td>\n",
       "      <td>2019-08-15</td>\n",
       "      <td>730</td>\n",
       "      <td>B</td>\n",
       "    </tr>\n",
       "    <tr>\n",
       "      <th>3</th>\n",
       "      <td>3797467345</td>\n",
       "      <td>1196621759</td>\n",
       "      <td>2019-08-15</td>\n",
       "      <td>9759</td>\n",
       "      <td>B</td>\n",
       "    </tr>\n",
       "    <tr>\n",
       "      <th>4</th>\n",
       "      <td>2282983706</td>\n",
       "      <td>2322279887</td>\n",
       "      <td>2019-08-15</td>\n",
       "      <td>2308</td>\n",
       "      <td>B</td>\n",
       "    </tr>\n",
       "    <tr>\n",
       "      <th>5</th>\n",
       "      <td>182168103</td>\n",
       "      <td>935554773</td>\n",
       "      <td>2019-08-15</td>\n",
       "      <td>2210</td>\n",
       "      <td>B</td>\n",
       "    </tr>\n",
       "  </tbody>\n",
       "</table>\n",
       "</div>"
      ],
      "text/plain": [
       "      orderId      userId       date  revenue group\n",
       "0  3667963787  3312258926 2019-08-15     1650     B\n",
       "1  2804400009  3642806036 2019-08-15      730     B\n",
       "3  3797467345  1196621759 2019-08-15     9759     B\n",
       "4  2282983706  2322279887 2019-08-15     2308     B\n",
       "5   182168103   935554773 2019-08-15     2210     B"
      ]
     },
     "execution_count": 29,
     "metadata": {},
     "output_type": "execute_result"
    }
   ],
   "source": [
    "# подготовка данных для чистки двойных пользователей\n",
    "filter_orders = orders.query('userId not in @duplicated_user.index')\n",
    "filter_orders.head()"
   ]
  },
  {
   "cell_type": "markdown",
   "metadata": {},
   "source": [
    "### График кумулятивной выручки по группам"
   ]
  },
  {
   "cell_type": "markdown",
   "metadata": {},
   "source": [
    "Чтобы построить график кумулятивной выручки, нужно собрать кумулятивные данные. \n",
    "\n",
    "Объявим датафрейм cumulativeData со столбцами:\n",
    "* date — дата;\n",
    "* group — группа A/B-теста (A или B);\n",
    "* orders — кумулятивное количество заказов на указанную дату в указанной группе;\n",
    "* buyers — кумулятивное количество пользователей, совершивших хотя бы один заказ, на указанную дату в указанной группе;\n",
    "* revenue — кумулятивная выручка на указанную дату в указанной группе (средний чек);\n",
    "* visitors — кумулятивное количество посетителей интернет-магазина на указанную дату в определённой группе."
   ]
  },
  {
   "cell_type": "code",
   "execution_count": 30,
   "metadata": {},
   "outputs": [
    {
     "name": "stdout",
     "output_type": "stream",
     "text": [
      "        date group  orders  buyers  revenue  visitors\n",
      "0 2019-08-01     A      24      20   148579       719\n",
      "1 2019-08-01     B      21      20   101217       713\n",
      "2 2019-08-02     A      44      38   242401      1338\n",
      "3 2019-08-02     B      45      43   266748      1294\n",
      "4 2019-08-03     A      68      62   354874      1845\n"
     ]
    }
   ],
   "source": [
    "# создаем массив уникальных пар значений дат и групп теста\n",
    "datesGroups = orders[['date','group']].drop_duplicates()\n",
    "\n",
    "# получаем агрегированные кумулятивные по дням данные о заказах \n",
    "ordersAggregated = datesGroups.apply(lambda x: orders[np.logical_and(orders['date'] <= x['date'], orders['group'] == x['group'])].agg({'date' : 'max', 'group' : 'max', 'orderId' : 'nunique', 'userId' : 'nunique', 'revenue' : 'sum'}), axis=1).sort_values(by=['date','group'])\n",
    "\n",
    "# получаем агрегированные кумулятивные по дням данные о посетителях интернет-магазина \n",
    "visitorsAggregated = datesGroups.apply(lambda x: visitors[np.logical_and(visitors['date'] <= x['date'], visitors['group'] == x['group'])].agg({'date' : 'max', 'group' : 'max', 'visitors' : 'sum'}), axis=1).sort_values(by=['date','group'])\n",
    "\n",
    "# объединяем кумулятивные данные в одной таблице и присваиваем ее столбцам понятные названия\n",
    "cumulativeData = ordersAggregated.merge(visitorsAggregated, left_on=['date', 'group'], right_on=['date', 'group'])\n",
    "cumulativeData.columns = ['date', 'group', 'orders', 'buyers', 'revenue', 'visitors']\n",
    "\n",
    "print(cumulativeData.head(5))"
   ]
  },
  {
   "cell_type": "markdown",
   "metadata": {},
   "source": [
    "Построим графики кумулятивной выручки по дням и группам A/B-тестирования."
   ]
  },
  {
   "cell_type": "code",
   "execution_count": 31,
   "metadata": {},
   "outputs": [
    {
     "data": {
      "image/png": "[encoded data removed]",
      "text/plain": [
       "<Figure size 1080x360 with 1 Axes>"
      ]
     },
     "metadata": {
      "needs_background": "light"
     },
     "output_type": "display_data"
    }
   ],
   "source": [
    "# датафрейм с кумулятивным количеством заказов и кумулятивной выручкой по дням в группе А\n",
    "cumulativeRevenueA = cumulativeData[cumulativeData['group']=='A'][['date','revenue', 'orders']]\n",
    "\n",
    "# датафрейм с кумулятивным количеством заказов и кумулятивной выручкой по дням в группе B\n",
    "cumulativeRevenueB = cumulativeData[cumulativeData['group']=='B'][['date','revenue', 'orders']]\n",
    "\n",
    "plt.figure(figsize=(15,5))\n",
    "\n",
    "# Строим график выручки группы А\n",
    "plt.plot(cumulativeRevenueA['date'], cumulativeRevenueA['revenue'], label='A')\n",
    "\n",
    "# Строим график выручки группы B\n",
    "\n",
    "plt.plot(cumulativeRevenueB['date'], cumulativeRevenueB['revenue'], label='B')\n",
    "plt.grid()\n",
    "plt.legend()\n",
    "plt.xlabel('Дата')\n",
    "plt.ylabel('Кумулятивная выручка')\n",
    "plt.title('График кумулятивной выручки');"
   ]
  },
  {
   "cell_type": "markdown",
   "metadata": {},
   "source": [
    "Выручки групп А и В почти равномерно увеличиваются в течение всего теста. Выручка групп А и В в начального период с 01.08.2019 г. по 05.08.2019 г. и 13.08.2019 г. одинакова. В остальной рассматриваемый период времени выручка группы А больше, чем выручка группы В. График выручки группы А в период с 18.08.2019 г. по 20.08.2019 г. резко растёт. Это может сигнализировать о всплесках числа заказов, либо о появлении очень дорогих заказов в выборке."
   ]
  },
  {
   "cell_type": "markdown",
   "metadata": {},
   "source": [
    "### График кумулятивного среднего чека по группам"
   ]
  },
  {
   "cell_type": "code",
   "execution_count": 32,
   "metadata": {},
   "outputs": [
    {
     "data": {
      "image/png": "[encoded data removed]",
      "text/plain": [
       "<Figure size 1080x360 with 1 Axes>"
      ]
     },
     "metadata": {
      "needs_background": "light"
     },
     "output_type": "display_data"
    }
   ],
   "source": [
    "plt.figure(figsize=(15,5))\n",
    "plt.plot(cumulativeRevenueA['date'], cumulativeRevenueA['revenue']/cumulativeRevenueA['orders'], label='A')\n",
    "plt.plot(cumulativeRevenueB['date'], cumulativeRevenueB['revenue']/cumulativeRevenueB['orders'], label='B')\n",
    "plt.grid()\n",
    "plt.legend()\n",
    "plt.xlabel('Дата')\n",
    "plt.ylabel('Кумулятивная средняя выручка')\n",
    "plt.title('График кумулятивного среднего');"
   ]
  },
  {
   "cell_type": "markdown",
   "metadata": {},
   "source": [
    "Средний чек группы А на протяжении теста выше среднего чека группы В, исключением составляют даты 01.08.2019 г. и период с 12.08.2019 по 15.08.2019 г. Следует отметить, что 18.08.2019 г. произошел резкий скачок среднего чека группы А, что скорее всего связано с покупкой заказов высокой стоимости, далее наблюдается отрицательный тренд. Зависимость среднего чека от даты для группы В в период с 01.08.2019 г. по 06.08.2019 г. убывает, далее по 13.08.2019 г. возрастает, ближе к концу теста устанавливается примерно на одном уровне."
   ]
  },
  {
   "cell_type": "markdown",
   "metadata": {},
   "source": [
    "### График относительного изменения кумулятивного среднего чека группы B к группе A"
   ]
  },
  {
   "cell_type": "code",
   "execution_count": 33,
   "metadata": {},
   "outputs": [
    {
     "data": {
      "image/png": "[encoded data removed]",
      "text/plain": [
       "<Figure size 1080x432 with 1 Axes>"
      ]
     },
     "metadata": {
      "needs_background": "light"
     },
     "output_type": "display_data"
    }
   ],
   "source": [
    "# собираем данные в одном датафрейме\n",
    "mergedCumulativeRevenue = cumulativeRevenueA.merge(cumulativeRevenueB, left_on='date', \n",
    "                                                   right_on='date', how='left', suffixes=['A', 'B'])\n",
    "plt.figure(figsize=(15,6))\n",
    "\n",
    "# cтроим отношение средних чеков\n",
    "plt.plot(mergedCumulativeRevenue['date'], \n",
    "         (mergedCumulativeRevenue['revenueB']/mergedCumulativeRevenue['ordersB'])/(mergedCumulativeRevenue['revenueA']/mergedCumulativeRevenue['ordersA'])-1)\n",
    "\n",
    "# добавляем ось X\n",
    "plt.axhline(y=0, color='black', linestyle='--')\n",
    "plt.grid()\n",
    "plt.xlabel('Дата')\n",
    "plt.title('График относительного изменения кумулятивного среднего чека группы B к группе A');"
   ]
  },
  {
   "cell_type": "markdown",
   "metadata": {},
   "source": [
    "В начале теста группа B значительно проигрывала группе A, затем к 03.08.2019 г. вырвалась вперёд. После 07.08.2019 г. её средний чек относительно группы А падал, после 13.08.2019 г. стремительно рос. К концу теста средний чек группы В выше относительно среднего чека группы А, но график имеет тенденцию к убыванию. График различия между сегментами резко «скачет», что подтверждает гипотезу о наличии крупных заказов в группе В."
   ]
  },
  {
   "cell_type": "markdown",
   "metadata": {},
   "source": [
    "### График кумулятивной конверсии по группам"
   ]
  },
  {
   "cell_type": "code",
   "execution_count": 49,
   "metadata": {},
   "outputs": [
    {
     "data": {
      "image/png": "[encoded data removed]",
      "text/plain": [
       "<Figure size 864x432 with 1 Axes>"
      ]
     },
     "metadata": {
      "needs_background": "light"
     },
     "output_type": "display_data"
    }
   ],
   "source": [
    "# считаем кумулятивную конверсию\n",
    "cumulativeData['conversion'] = cumulativeData['orders']/cumulativeData['visitors']\n",
    "\n",
    "# отделяем данные по группе A\n",
    "cumulativeDataA = cumulativeData[cumulativeData['group']=='A']\n",
    "\n",
    "# отделяем данные по группе B\n",
    "cumulativeDataB = cumulativeData[cumulativeData['group']=='B']\n",
    "\n",
    "# строим графики\n",
    "plt.figure(figsize=(12,6))\n",
    "plt.plot(cumulativeDataA['date'], cumulativeDataA['conversion'], label='A')\n",
    "plt.plot(cumulativeDataB['date'], cumulativeDataB['conversion'], label='B')\n",
    "plt.legend()\n",
    "plt.grid()\n",
    "plt.xlabel('Дата')\n",
    "plt.ylabel('Кумулятивная конверсия')\n",
    "plt.title('График кумулятивной конверсии по группам А и В');"
   ]
  },
  {
   "cell_type": "markdown",
   "metadata": {},
   "source": [
    "В начале теста сегмент А имел большую конверсию, но постепенно сегмент В выровнялся и зафиксировался примерно около одного значения, больше значения сегмента А. Абсолютное значение колебания в начале и конце теста незначительное: примерно от 2.9% до 3.8%. \n"
   ]
  },
  {
   "cell_type": "markdown",
   "metadata": {},
   "source": [
    "### График относительного изменения кумулятивной конверсии группы B к группе A"
   ]
  },
  {
   "cell_type": "code",
   "execution_count": 35,
   "metadata": {},
   "outputs": [
    {
     "data": {
      "image/png": "[encoded data removed]",
      "text/plain": [
       "<Figure size 864x432 with 1 Axes>"
      ]
     },
     "metadata": {
      "needs_background": "light"
     },
     "output_type": "display_data"
    }
   ],
   "source": [
    "mergedCumulativeConversions = cumulativeDataA[['date','conversion']].merge(cumulativeDataB[['date','conversion']], \n",
    "                                                                           left_on='date', right_on='date', how='left', \n",
    "                                                                           suffixes=['A', 'B'])\n",
    "plt.figure(figsize=(12,6))\n",
    "plt.plot(mergedCumulativeConversions['date'], \n",
    "         mergedCumulativeConversions['conversionB']/mergedCumulativeConversions['conversionA']-1, \n",
    "         label=\"Относительный прирост конверсии группы B относительно группы A\")\n",
    "\n",
    "plt.legend()\n",
    "plt.grid()\n",
    "plt.xlabel('Дата')\n",
    "plt.title('График относительного изменения кумулятивной конверсии группы B к группе A');\n",
    "plt.axhline(y=0, color='black', linestyle='--');\n",
    "#plt.axhline(y=-0.1, color='grey', linestyle='--')\n",
    "#plt.axis([\"2019-08-01\", '2019-09-01', -0.3, 0.4]);"
   ]
  },
  {
   "cell_type": "markdown",
   "metadata": {},
   "source": [
    "В начале теста группа B по конверсии уступала группе A, затем вырвалась вперёд на небольшой промежуток времени. Потом её конверсия снова падала, но теперь с 06.08.2019 г. постепенно растёт. Конверсия группы В с 19.08.2019 г. зафиксировалась около прироста в 10-15% относительно группы А."
   ]
  },
  {
   "cell_type": "markdown",
   "metadata": {},
   "source": [
    "### Точечный график количества заказов по пользователям "
   ]
  },
  {
   "cell_type": "code",
   "execution_count": 36,
   "metadata": {},
   "outputs": [
    {
     "data": {
      "text/html": [
       "<div>\n",
       "<style scoped>\n",
       "    .dataframe tbody tr th:only-of-type {\n",
       "        vertical-align: middle;\n",
       "    }\n",
       "\n",
       "    .dataframe tbody tr th {\n",
       "        vertical-align: top;\n",
       "    }\n",
       "\n",
       "    .dataframe thead th {\n",
       "        text-align: right;\n",
       "    }\n",
       "</style>\n",
       "<table border=\"1\" class=\"dataframe\">\n",
       "  <thead>\n",
       "    <tr style=\"text-align: right;\">\n",
       "      <th></th>\n",
       "      <th>userId</th>\n",
       "      <th>orders</th>\n",
       "    </tr>\n",
       "  </thead>\n",
       "  <tbody>\n",
       "    <tr>\n",
       "      <th>0</th>\n",
       "      <td>5114589</td>\n",
       "      <td>1</td>\n",
       "    </tr>\n",
       "    <tr>\n",
       "      <th>1</th>\n",
       "      <td>6958315</td>\n",
       "      <td>1</td>\n",
       "    </tr>\n",
       "    <tr>\n",
       "      <th>2</th>\n",
       "      <td>8300375</td>\n",
       "      <td>2</td>\n",
       "    </tr>\n",
       "    <tr>\n",
       "      <th>3</th>\n",
       "      <td>11685486</td>\n",
       "      <td>1</td>\n",
       "    </tr>\n",
       "    <tr>\n",
       "      <th>4</th>\n",
       "      <td>39475350</td>\n",
       "      <td>1</td>\n",
       "    </tr>\n",
       "  </tbody>\n",
       "</table>\n",
       "</div>"
      ],
      "text/plain": [
       "     userId  orders\n",
       "0   5114589       1\n",
       "1   6958315       1\n",
       "2   8300375       2\n",
       "3  11685486       1\n",
       "4  39475350       1"
      ]
     },
     "metadata": {},
     "output_type": "display_data"
    },
    {
     "data": {
      "image/png": "[encoded data removed]",
      "text/plain": [
       "<Figure size 720x432 with 1 Axes>"
      ]
     },
     "metadata": {
      "needs_background": "light"
     },
     "output_type": "display_data"
    }
   ],
   "source": [
    "ordersByUsers = (\n",
    "    orders.groupby('userId', as_index=False)\n",
    "    .agg({'orderId': pd.Series.nunique})\n",
    ")\n",
    "\n",
    "ordersByUsers.columns = ['userId', 'orders']\n",
    "display(ordersByUsers.head())\n",
    "\n",
    "\n",
    "x_values = pd.Series(range(0,len(ordersByUsers['orders'])))\n",
    "plt.figure(figsize=(10,6))\n",
    "plt.scatter(x_values, ordersByUsers['orders'])\n",
    "plt.grid()\n",
    "plt.xlabel('Пользователи')\n",
    "plt.ylabel('Количество заказов')\n",
    "plt.title('График количества заказов по пользователям');"
   ]
  },
  {
   "cell_type": "markdown",
   "metadata": {},
   "source": [
    "Пользователей, заказавших 2 и более заказов мало. Они вполне могут оказаться аномальными. Аномалия — такое значение, которое бывает в генеральной совокупности редко, но его попадание в выборку способно внести погрешность."
   ]
  },
  {
   "cell_type": "markdown",
   "metadata": {},
   "source": [
    "### 95-й и 99-й перцентили количества заказов на пользователя"
   ]
  },
  {
   "cell_type": "code",
   "execution_count": 37,
   "metadata": {},
   "outputs": [
    {
     "data": {
      "text/plain": [
       "array([2., 4.])"
      ]
     },
     "execution_count": 37,
     "metadata": {},
     "output_type": "execute_result"
    }
   ],
   "source": [
    "np.percentile(ordersByUsers['orders'], [95, 99])"
   ]
  },
  {
   "cell_type": "markdown",
   "metadata": {},
   "source": [
    "Для того, чтобы ответить на вопрос аномальны ли 2 заказа от пользователя, следует определить выборочные перцентили.\n",
    "Квартили разбивают упорядоченный набор данных на четыре части. Первый квартиль Q1 — число, отделяющее первую четверть выборки: 25% элементов меньше, а 75% — больше него. Медиана — второй квартиль Q2, половина элементов больше и половина меньше неё. Если делить упорядоченную выборку не на 4 части, а на 100 — получим перцентиль. Определив 95-й и 99-й перцентили количества заказов на пользователя, можно сделать вывод, что не более 5% пользователей совершали больше двух заказов и не более 1% - больше 4. Разумно выбрать 2 заказа на одного пользователя за нижнюю границу числа заказов."
   ]
  },
  {
   "cell_type": "markdown",
   "metadata": {},
   "source": [
    "### Точечный график стоимостей заказов"
   ]
  },
  {
   "cell_type": "code",
   "execution_count": 38,
   "metadata": {},
   "outputs": [
    {
     "data": {
      "image/png": "[encoded data removed]",
      "text/plain": [
       "<Figure size 720x432 with 1 Axes>"
      ]
     },
     "metadata": {
      "needs_background": "light"
     },
     "output_type": "display_data"
    }
   ],
   "source": [
    "x_values = pd.Series(range(0,len(orders['revenue'])))\n",
    "plt.figure(figsize=(10,6))\n",
    "plt.scatter(x_values, orders['revenue'])\n",
    "plt.grid()\n",
    "plt.xlabel('Пользователи')\n",
    "plt.ylabel('Стоимость заказа')\n",
    "plt.title('График стоимостей заказов по пользователям');"
   ]
  },
  {
   "cell_type": "markdown",
   "metadata": {},
   "source": [
    "На графике стоимостей заказов по пользователям обнаружен один заказ стоимость примерно 200 000 руб. и один заказ стоимостью более 1300000 руб., что выглядит весьма аномально. Если такие дорогие заказы попадут в одну из групп теста, они сразу же исказят результаты и сделают победителем ту группу, где оказались. При этом такие покупки — редкость, исключение, которое проявилось не из-за тестирования гипотезы, а случайно."
   ]
  },
  {
   "cell_type": "code",
   "execution_count": 39,
   "metadata": {},
   "outputs": [
    {
     "data": {
      "text/html": [
       "<div>\n",
       "<style scoped>\n",
       "    .dataframe tbody tr th:only-of-type {\n",
       "        vertical-align: middle;\n",
       "    }\n",
       "\n",
       "    .dataframe tbody tr th {\n",
       "        vertical-align: top;\n",
       "    }\n",
       "\n",
       "    .dataframe thead th {\n",
       "        text-align: right;\n",
       "    }\n",
       "</style>\n",
       "<table border=\"1\" class=\"dataframe\">\n",
       "  <thead>\n",
       "    <tr style=\"text-align: right;\">\n",
       "      <th></th>\n",
       "      <th>orderId</th>\n",
       "      <th>userId</th>\n",
       "      <th>date</th>\n",
       "      <th>revenue</th>\n",
       "      <th>group</th>\n",
       "    </tr>\n",
       "  </thead>\n",
       "  <tbody>\n",
       "    <tr>\n",
       "      <th>425</th>\n",
       "      <td>590470918</td>\n",
       "      <td>1920142716</td>\n",
       "      <td>2019-08-19</td>\n",
       "      <td>1294500</td>\n",
       "      <td>B</td>\n",
       "    </tr>\n",
       "  </tbody>\n",
       "</table>\n",
       "</div>"
      ],
      "text/plain": [
       "       orderId      userId       date  revenue group\n",
       "425  590470918  1920142716 2019-08-19  1294500     B"
      ]
     },
     "execution_count": 39,
     "metadata": {},
     "output_type": "execute_result"
    }
   ],
   "source": [
    "orders.query('revenue == revenue.max()')"
   ]
  },
  {
   "cell_type": "markdown",
   "metadata": {},
   "source": [
    "Предположение, что скачок с 18.08.2019 г. графика кумулятивного среднего чека по группам произошел в связи с покупкой заказа высокой стоимости, подтверждается данными заказа orderId = 590470918. Также данный факт отражен выбросом на графике стоимостей заказов по пользовтаелям. "
   ]
  },
  {
   "cell_type": "markdown",
   "metadata": {},
   "source": [
    "### 95-й и 99-й перцентили стоимости заказов"
   ]
  },
  {
   "cell_type": "code",
   "execution_count": 40,
   "metadata": {},
   "outputs": [
    {
     "data": {
      "text/plain": [
       "array([28000. , 58233.2])"
      ]
     },
     "execution_count": 40,
     "metadata": {},
     "output_type": "execute_result"
    }
   ],
   "source": [
    "np.percentile(orders['revenue'], [95, 99])"
   ]
  },
  {
   "cell_type": "markdown",
   "metadata": {},
   "source": [
    "Не более 5% заказов дороже 28 000 рублей и не более 1% дороже 58 233 рублей. Определим сумму заказа 28 000 руб. за нижнюю границу стоимости заказа."
   ]
  },
  {
   "cell_type": "markdown",
   "metadata": {},
   "source": [
    "### Статистическая значимость различий в конверсии между группами по «сырым» данным"
   ]
  },
  {
   "cell_type": "markdown",
   "metadata": {},
   "source": [
    "Рассчитаем статистическую значимость различий в конверсии между группами по «сырым» данным. Связанная с измеряемой социальной активностью конверсия распределена ненормально, поэтому используем тест, основанный на структурном подходе, или непараметрический. Метод, который будем применять для A/B-тестирования, называется st.mannwhitneyu() (от англ. «U-критерий Манна-Уитни»). Вероятности получения разных значений критерия Манна-Уитни рассчитаны теоретически, что даёт возможность делать вывод о различии или его отсутствии для любого заданного уровня значимости. Обозначим нулевую гипотезу и альтернативную.\n",
    "\n",
    "Нулевая гипотеза: конверсии по «сырым» данным группы A и B равны. Альтернативная гипотеза: конверсии по «сырым» данным группы A и B не равны.\n",
    "\n",
    "Для проведения теста необходимо созда переменные ordersByUsersA и ordersByUsersB со столбцами ['userId', 'orders']. В них для пользователей, которые заказывали хотя бы 1 раз, укажем число совершённых заказов.\n"
   ]
  },
  {
   "cell_type": "code",
   "execution_count": 41,
   "metadata": {},
   "outputs": [
    {
     "name": "stdout",
     "output_type": "stream",
     "text": [
      "        date  ordersPerDateA  revenuePerDateA  ordersPerDateB  \\\n",
      "0 2019-08-01              24           148579              21   \n",
      "1 2019-08-02              20            93822              24   \n",
      "2 2019-08-03              24           112473              16   \n",
      "3 2019-08-04              16            70825              17   \n",
      "4 2019-08-05              25           124218              23   \n",
      "\n",
      "   revenuePerDateB  ordersCummulativeA  revenueCummulativeA  \\\n",
      "0           101217                  24               148579   \n",
      "1           165531                  44               242401   \n",
      "2           114248                  68               354874   \n",
      "3           108571                  84               425699   \n",
      "4            92428                 109               549917   \n",
      "\n",
      "   ordersCummulativeB  revenueCummulativeB  visitorsPerDateA  \\\n",
      "0                  21               101217               719   \n",
      "1                  45               266748               619   \n",
      "2                  61               380996               507   \n",
      "3                  78               489567               717   \n",
      "4                 101               581995               756   \n",
      "\n",
      "   visitorsPerDateB  visitorsCummulativeA  visitorsCummulativeB  \n",
      "0               713                   719                   713  \n",
      "1               581                  1338                  1294  \n",
      "2               509                  1845                  1803  \n",
      "3               770                  2562                  2573  \n",
      "4               707                  3318                  3280  \n"
     ]
    }
   ],
   "source": [
    "visitorsADaily = visitors[visitors['group'] == 'A'][['date', 'visitors']]\n",
    "visitorsADaily.columns = ['date', 'visitorsPerDateA']\n",
    "\n",
    "visitorsACummulative = visitorsADaily.apply(\n",
    "    lambda x: visitorsADaily[visitorsADaily['date'] <= x['date']].agg(\n",
    "        {'date': 'max', 'visitorsPerDateA': 'sum'}\n",
    "    ),\n",
    "    axis=1,\n",
    ")\n",
    "visitorsACummulative.columns = ['date', 'visitorsCummulativeA']\n",
    "\n",
    "visitorsBDaily = visitors[visitors['group'] == 'B'][['date', 'visitors']]\n",
    "visitorsBDaily.columns = ['date', 'visitorsPerDateB']\n",
    "\n",
    "visitorsBCummulative = visitorsBDaily.apply(\n",
    "    lambda x: visitorsBDaily[visitorsBDaily['date'] <= x['date']].agg(\n",
    "        {'date': 'max', 'visitorsPerDateB': 'sum'}\n",
    "    ),\n",
    "    axis=1,\n",
    ")\n",
    "visitorsBCummulative.columns = ['date', 'visitorsCummulativeB']\n",
    "\n",
    "ordersADaily = (\n",
    "    orders[orders['group'] == 'A'][['date', 'orderId', 'userId', 'revenue']]\n",
    "    .groupby('date', as_index=False)\n",
    "    .agg({'orderId': pd.Series.nunique, 'revenue': 'sum'})\n",
    ")\n",
    "ordersADaily.columns = ['date', 'ordersPerDateA', 'revenuePerDateA']\n",
    "\n",
    "ordersACummulative = ordersADaily.apply(\n",
    "    lambda x: ordersADaily[ordersADaily['date'] <= x['date']].agg(\n",
    "        {'date': 'max', 'ordersPerDateA': 'sum', 'revenuePerDateA': 'sum'}\n",
    "    ),\n",
    "    axis=1,\n",
    ").sort_values(by=['date'])\n",
    "ordersACummulative.columns = [\n",
    "    'date',\n",
    "    'ordersCummulativeA',\n",
    "    'revenueCummulativeA',\n",
    "]\n",
    "\n",
    "ordersBDaily = (\n",
    "    orders[orders['group'] == 'B'][['date', 'orderId', 'userId', 'revenue']]\n",
    "    .groupby('date', as_index=False)\n",
    "    .agg({'orderId': pd.Series.nunique, 'revenue': 'sum'})\n",
    ")\n",
    "ordersBDaily.columns = ['date', 'ordersPerDateB', 'revenuePerDateB']\n",
    "\n",
    "ordersBCummulative = ordersBDaily.apply(\n",
    "    lambda x: ordersBDaily[ordersBDaily['date'] <= x['date']].agg(\n",
    "        {'date': 'max', 'ordersPerDateB': 'sum', 'revenuePerDateB': 'sum'}\n",
    "    ),\n",
    "    axis=1,\n",
    ").sort_values(by=['date'])\n",
    "ordersBCummulative.columns = [\n",
    "    'date',\n",
    "    'ordersCummulativeB',\n",
    "    'revenueCummulativeB',\n",
    "]\n",
    "\n",
    "data = (\n",
    "    ordersADaily.merge(\n",
    "        ordersBDaily, left_on='date', right_on='date', how='left'\n",
    "    )\n",
    "    .merge(ordersACummulative, left_on='date', right_on='date', how='left')\n",
    "    .merge(ordersBCummulative, left_on='date', right_on='date', how='left')\n",
    "    .merge(visitorsADaily, left_on='date', right_on='date', how='left')\n",
    "    .merge(visitorsBDaily, left_on='date', right_on='date', how='left')\n",
    "    .merge(visitorsACummulative, left_on='date', right_on='date', how='left')\n",
    "    .merge(visitorsBCummulative, left_on='date', right_on='date', how='left')\n",
    ")\n",
    "\n",
    "print(data.head(5))"
   ]
  },
  {
   "cell_type": "markdown",
   "metadata": {},
   "source": [
    "Названия столбцов данных:\n",
    "* date — дата;\n",
    "* ordersPerDateA — количество заказов в выбранную дату в группе A;\n",
    "* revenuePerDateA — суммарная выручка в выбранную дату в группе A;\n",
    "* ordersPerDateB — количество заказов в выбранную дату в группе B;\n",
    "* revenuePerDateB — суммарная выручка в выбранную дату в группе B;\n",
    "* ordersCummulativeA — суммарное число заказов до выбранной даты включительно в группе A;\n",
    "* revenueCummulativeA — суммарная выручка до выбранной даты включительно в группе A;\n",
    "* ordersCummulativeB — суммарное количество заказов до выбранной даты включительно в группе B;\n",
    "* revenueCummulativeB — суммарная выручка до выбранной даты включительно в группе B;\n",
    "* visitorsPerDateA — количество пользователей в выбранную дату в группе A;\n",
    "* visitorsPerDateB — количество пользователей в выбранную дату в группе B;\n",
    "* visitorsCummulativeA — количество пользователей до выбранной даты включительно в группе A;\n",
    "* visitorsCummulativeB — количество пользователей до выбранной даты включительно в группе B."
   ]
  },
  {
   "cell_type": "code",
   "execution_count": 42,
   "metadata": {},
   "outputs": [
    {
     "name": "stdout",
     "output_type": "stream",
     "text": [
      "0.017\n",
      "0.138\n"
     ]
    }
   ],
   "source": [
    "ordersByUsersA = (\n",
    "    orders[orders['group'] == 'A']\n",
    "    .groupby('userId', as_index=False)\n",
    "    .agg({'orderId': pd.Series.nunique})\n",
    ")\n",
    "ordersByUsersA.columns = ['userId', 'orders']\n",
    "\n",
    "ordersByUsersB = (\n",
    "    orders[orders['group'] == 'B']\n",
    "    .groupby('userId', as_index=False)\n",
    "    .agg({'orderId': pd.Series.nunique})\n",
    ")\n",
    "ordersByUsersB.columns = ['userId', 'orders']\n",
    "sampleA = pd.concat(\n",
    "    [\n",
    "        ordersByUsersA['orders'],\n",
    "        pd.Series(\n",
    "            0,\n",
    "            index=np.arange(\n",
    "                data['visitorsPerDateA'].sum() - len(ordersByUsersA['orders'])\n",
    "            ),\n",
    "            name='orders',\n",
    "        ),\n",
    "    ],\n",
    "    axis=0,\n",
    ")\n",
    "\n",
    "sampleB = pd.concat(\n",
    "    [\n",
    "        ordersByUsersB['orders'],\n",
    "        pd.Series(\n",
    "            0,\n",
    "            index=np.arange(\n",
    "                data['visitorsPerDateB'].sum() - len(ordersByUsersB['orders'])\n",
    "            ),\n",
    "            name='orders',\n",
    "        ),\n",
    "    ],\n",
    "    axis=0,\n",
    ")\n",
    "\n",
    "print(\"{0:.3f}\".format(stats.mannwhitneyu(sampleA, sampleB)[1]))\n",
    "\n",
    "print(\"{0:.3f}\".format(sampleB.mean() / sampleA.mean() - 1))\n",
    " "
   ]
  },
  {
   "cell_type": "markdown",
   "metadata": {},
   "source": [
    "По «сырым» данным различия в конверсии групп A и B существуют.\n",
    "Первое число — p-value = 0.017 меньше 0.05. Значит, нулевую гипотезу о том, что статистически значимых различий в конверсии между группами нет, отвергаем. Принимаем альтернативную гипотезу, что статистически значимые различия в конверсии между группами А и В существуют. Относительный проигрыш группы А к группе В равен 13.8% — второе число в выводе."
   ]
  },
  {
   "cell_type": "markdown",
   "metadata": {},
   "source": [
    "### Статистическая значимость различий в среднем чеке заказа между группами по «сырым» данным"
   ]
  },
  {
   "cell_type": "code",
   "execution_count": 43,
   "metadata": {},
   "outputs": [
    {
     "name": "stdout",
     "output_type": "stream",
     "text": [
      "0.729\n",
      "0.259\n"
     ]
    }
   ],
   "source": [
    "print('{0:.3f}'.format(\n",
    "    stats.mannwhitneyu(orders[orders['group']=='A']['revenue'], orders[orders['group']=='B']['revenue'])[1]))\n",
    "print('{0:.3f}'.format(\n",
    "    orders[orders['group']=='B']['revenue'].mean()/orders[orders['group']=='A']['revenue'].mean()-1))"
   ]
  },
  {
   "cell_type": "markdown",
   "metadata": {},
   "source": [
    "Нулевая гипотеза: средний чек заказа по «сырым» данным группы А равен среднему чеку заказа группы В.\n",
    "P-value 0.729 значительно больше 0.05. Значит, причин отвергать нулевую гипотезу и считать, что в среднем чеке есть различия, нет. Cредний чек группы B значительно выше среднего чека группы A."
   ]
  },
  {
   "cell_type": "markdown",
   "metadata": {},
   "source": [
    "### Статистическая значимость различий в конверсии между группами по «очищенным» данным"
   ]
  },
  {
   "cell_type": "markdown",
   "metadata": {},
   "source": [
    "Примем за аномальных пользователей тех, кто совершил от 2 заказов или совершил заказ дороже 28 000 рублей. Так мы уберём 5% пользователей с наибольшим числом заказов и от 1% до 5% пользователей с дорогими заказами. Сделаем срезы пользователей с числом заказов больше 1 — usersWithManyOrders и пользователей, совершивших заказы дороже 28 000 — usersWithExpensiveOrders. Объединим их в таблице abnormalUsers."
   ]
  },
  {
   "cell_type": "code",
   "execution_count": 44,
   "metadata": {},
   "outputs": [
    {
     "name": "stdout",
     "output_type": "stream",
     "text": [
      "1099    148427295\n",
      "18      199603092\n",
      "928     204675465\n",
      "23      237748145\n",
      "37      249864742\n",
      "Name: userId, dtype: int64\n",
      "(111,)\n"
     ]
    }
   ],
   "source": [
    "usersWithManyOrders = pd.concat(\n",
    "    [\n",
    "        ordersByUsersA[ordersByUsersA['orders'] > 1]['userId'],\n",
    "        ordersByUsersB[ordersByUsersB['orders'] > 1]['userId'],\n",
    "    ],\n",
    "    axis=0,\n",
    ")\n",
    "usersWithExpensiveOrders = orders[orders['revenue'] > 28000]['userId']\n",
    "abnormalUsers = (\n",
    "    pd.concat([usersWithManyOrders, usersWithExpensiveOrders], axis=0)\n",
    "    .drop_duplicates()\n",
    "    .sort_values()\n",
    ")\n",
    "print(abnormalUsers.head(5))\n",
    "print(abnormalUsers.shape)"
   ]
  },
  {
   "cell_type": "markdown",
   "metadata": {},
   "source": [
    "Всего 111 аномальных пользователей.  Посчитаем статистическую значимость различий в конверсии между группами теста по очищенным данным.   \n",
    "    \n",
    "Нулевая гипотеза: конверсия по очищенным данным группы A и B равна.\n",
    "Альтернативная гипотеза: конверсия по очищенным данным группы A и B не равна."
   ]
  },
  {
   "cell_type": "code",
   "execution_count": 45,
   "metadata": {},
   "outputs": [],
   "source": [
    "sampleAFiltered = pd.concat(\n",
    "    [\n",
    "        ordersByUsersA[\n",
    "            np.logical_not(ordersByUsersA['userId'].isin(abnormalUsers))\n",
    "        ]['orders'],\n",
    "        pd.Series(\n",
    "            0,\n",
    "            index=np.arange(\n",
    "                data['visitorsPerDateA'].sum() - len(ordersByUsersA['orders'])\n",
    "            ),\n",
    "            name='orders',\n",
    "        ),\n",
    "    ],\n",
    "    axis=0,\n",
    ")\n",
    "\n",
    "sampleBFiltered = pd.concat(\n",
    "    [\n",
    "        ordersByUsersB[\n",
    "            np.logical_not(ordersByUsersB['userId'].isin(abnormalUsers))\n",
    "        ]['orders'],\n",
    "        pd.Series(\n",
    "            0,\n",
    "            index=np.arange(\n",
    "                data['visitorsPerDateB'].sum() - len(ordersByUsersB['orders'])\n",
    "            ),\n",
    "            name='orders',\n",
    "        ),\n",
    "    ],\n",
    "    axis=0,\n",
    ")"
   ]
  },
  {
   "cell_type": "code",
   "execution_count": 46,
   "metadata": {},
   "outputs": [
    {
     "name": "stdout",
     "output_type": "stream",
     "text": [
      "0.016\n",
      "0.168\n"
     ]
    }
   ],
   "source": [
    "print('{0:.3f}'.format(stats.mannwhitneyu(sampleAFiltered, sampleBFiltered)[1]))\n",
    "print('{0:.3f}'.format(sampleBFiltered.mean()/sampleAFiltered.mean()-1))"
   ]
  },
  {
   "cell_type": "markdown",
   "metadata": {},
   "source": [
    "Результаты по конверсии не изменились. Отвергаем нулевую гипотезу, так как экспериментальные данные очень маловероятны при условии, что гипотеза верна. Значит, конверсия по очищенным данным группы A и B не равна. Относительный проигрыш группы А к группе В вырос на 3% и составляет 16.8%."
   ]
  },
  {
   "cell_type": "markdown",
   "metadata": {},
   "source": [
    "### Статистическая значимость различий в среднем чеке заказа между группами по «очищенным» данным"
   ]
  },
  {
   "cell_type": "code",
   "execution_count": 47,
   "metadata": {},
   "outputs": [
    {
     "name": "stdout",
     "output_type": "stream",
     "text": [
      "0.835\n",
      "-0.006\n"
     ]
    }
   ],
   "source": [
    "print(\n",
    "    '{0:.3f}'.format(\n",
    "        stats.mannwhitneyu(\n",
    "            orders[\n",
    "                np.logical_and(\n",
    "                    orders['group'] == 'A',\n",
    "                    np.logical_not(orders['userId'].isin(abnormalUsers)),\n",
    "                )\n",
    "            ]['revenue'],\n",
    "            orders[\n",
    "                np.logical_and(\n",
    "                    orders['group'] == 'B',\n",
    "                    np.logical_not(orders['userId'].isin(abnormalUsers)),\n",
    "                )\n",
    "            ]['revenue'],\n",
    "        )[1]\n",
    "    )\n",
    ")\n",
    "\n",
    "print(\n",
    "    \"{0:.3f}\".format(\n",
    "        orders[\n",
    "            np.logical_and(\n",
    "                orders['group'] == 'B',\n",
    "                np.logical_not(orders['userId'].isin(abnormalUsers)),\n",
    "            )\n",
    "        ]['revenue'].mean()\n",
    "        / orders[\n",
    "            np.logical_and(\n",
    "                orders['group'] == 'A',\n",
    "                np.logical_not(orders['userId'].isin(abnormalUsers)),\n",
    "            )\n",
    "        ]['revenue'].mean()\n",
    "        - 1\n",
    "    )\n",
    ")"
   ]
  },
  {
   "cell_type": "markdown",
   "metadata": {},
   "source": [
    "Нулевая гипотеза: средний чек по очищенным данным группы A и B равен.\n",
    "Альтернативная гипотеза: средний чек по очищенным данным группы A и B не равен.\n",
    "Итак, p-значение значительно выше установленного критического уровня статистической значимости, вероятность получить верные данные очень высока, гипотезу не отвергаем, следовательно, уверенность в том, что гипотеза верна, повысилась.\n",
    "P-value после удаления выбросов увеличился с 0.365 до 0.835, разница абсолютной величины между сегментами сократилась с 25.9% до 0.6%.\n",
    "Cредний чек группы B стал меньше среднего чека группы А."
   ]
  },
  {
   "cell_type": "markdown",
   "metadata": {},
   "source": [
    "### Вывод"
   ]
  },
  {
   "cell_type": "markdown",
   "metadata": {},
   "source": [
    "Имеющиеся факты:\n",
    "* Существуют статистически значимые различия по конверсии между группами по «сырым» и по данным после фильтрации аномалий;\n",
    "* Существует статистически значимое различие по среднему чеку между группами по «сырым», нет статистически значимого различия по среднему чеку между группами по данным после фильтрации аномалий;\n",
    "* График различия конверсии между группами сообщает, что результаты группы A хуже группы В и нет значительной тенденции к улучшению;\n",
    "* График различия среднего чека говорит о том, что результаты группы B ухудшаются, но пока лучше среднего чека группы А и в последние несколько дней зафиксировались на уровне 27%.\n",
    "\n",
    "Исходя из обнаруженных фактов, тест следует остановить, признать его успешным и зафиксировать победу группы В."
   ]
  }
 ],
 "metadata": {
  "ExecuteTimeLog": [
   {
    "duration": 333,
    "start_time": "2022-03-11T08:16:20.283Z"
   },
   {
    "duration": 736,
    "start_time": "2022-03-11T08:16:30.855Z"
   },
   {
    "duration": 31,
    "start_time": "2022-03-11T08:16:31.593Z"
   },
   {
    "duration": 3,
    "start_time": "2022-03-11T08:22:04.882Z"
   },
   {
    "duration": 24,
    "start_time": "2022-03-11T08:29:35.193Z"
   },
   {
    "duration": 4,
    "start_time": "2022-03-11T08:29:35.759Z"
   },
   {
    "duration": 17,
    "start_time": "2022-03-11T08:29:36.367Z"
   },
   {
    "duration": 25,
    "start_time": "2022-03-11T08:29:54.699Z"
   },
   {
    "duration": 11,
    "start_time": "2022-03-11T08:29:57.904Z"
   },
   {
    "duration": 4,
    "start_time": "2022-03-11T08:34:44.204Z"
   },
   {
    "duration": 26,
    "start_time": "2022-03-11T08:34:44.881Z"
   },
   {
    "duration": 10,
    "start_time": "2022-03-11T08:34:45.919Z"
   },
   {
    "duration": 4,
    "start_time": "2022-03-11T08:35:17.410Z"
   },
   {
    "duration": 21,
    "start_time": "2022-03-11T08:35:17.988Z"
   },
   {
    "duration": 12,
    "start_time": "2022-03-11T08:35:18.852Z"
   },
   {
    "duration": 11,
    "start_time": "2022-03-11T08:36:56.363Z"
   },
   {
    "duration": 22,
    "start_time": "2022-03-11T08:39:08.179Z"
   },
   {
    "duration": 26,
    "start_time": "2022-03-11T09:13:18.565Z"
   },
   {
    "duration": 10,
    "start_time": "2022-03-11T09:13:19.761Z"
   },
   {
    "duration": 18,
    "start_time": "2022-03-11T09:13:21.783Z"
   },
   {
    "duration": 45,
    "start_time": "2022-03-11T09:15:19.067Z"
   },
   {
    "duration": 35,
    "start_time": "2022-03-11T09:15:23.490Z"
   },
   {
    "duration": 35,
    "start_time": "2022-03-11T09:15:27.318Z"
   },
   {
    "duration": 19,
    "start_time": "2022-03-11T09:15:53.434Z"
   },
   {
    "duration": 501,
    "start_time": "2022-03-11T11:03:08.076Z"
   },
   {
    "duration": 24,
    "start_time": "2022-03-11T11:03:08.580Z"
   },
   {
    "duration": 13,
    "start_time": "2022-03-11T11:03:08.608Z"
   },
   {
    "duration": 33,
    "start_time": "2022-03-11T11:03:08.623Z"
   },
   {
    "duration": 35,
    "start_time": "2022-03-11T11:03:08.659Z"
   },
   {
    "duration": 20,
    "start_time": "2022-03-11T11:03:08.696Z"
   },
   {
    "duration": 4,
    "start_time": "2022-03-11T11:16:40.876Z"
   },
   {
    "duration": 28,
    "start_time": "2022-03-11T11:16:40.883Z"
   },
   {
    "duration": 14,
    "start_time": "2022-03-11T11:16:40.914Z"
   },
   {
    "duration": 15,
    "start_time": "2022-03-11T11:16:40.931Z"
   },
   {
    "duration": 32,
    "start_time": "2022-03-11T11:16:40.949Z"
   },
   {
    "duration": 20,
    "start_time": "2022-03-11T11:16:40.983Z"
   },
   {
    "duration": 1408,
    "start_time": "2022-03-11T11:17:31.155Z"
   },
   {
    "duration": 1459,
    "start_time": "2022-03-11T11:18:00.049Z"
   },
   {
    "duration": 23,
    "start_time": "2022-03-11T11:18:44.977Z"
   },
   {
    "duration": 19,
    "start_time": "2022-03-11T11:19:04.152Z"
   },
   {
    "duration": 9,
    "start_time": "2022-03-11T11:19:07.506Z"
   },
   {
    "duration": 8,
    "start_time": "2022-03-11T11:19:22.708Z"
   },
   {
    "duration": 5,
    "start_time": "2022-03-11T11:20:47.225Z"
   },
   {
    "duration": 9,
    "start_time": "2022-03-11T11:20:59.775Z"
   },
   {
    "duration": 4,
    "start_time": "2022-03-11T11:21:31.252Z"
   },
   {
    "duration": 31,
    "start_time": "2022-03-11T11:21:31.260Z"
   },
   {
    "duration": 17,
    "start_time": "2022-03-11T11:21:31.293Z"
   },
   {
    "duration": 18,
    "start_time": "2022-03-11T11:21:31.313Z"
   },
   {
    "duration": 31,
    "start_time": "2022-03-11T11:21:31.351Z"
   },
   {
    "duration": 9,
    "start_time": "2022-03-11T11:21:31.384Z"
   },
   {
    "duration": 25,
    "start_time": "2022-03-11T11:21:31.395Z"
   },
   {
    "duration": 13,
    "start_time": "2022-03-11T11:21:31.423Z"
   },
   {
    "duration": 15,
    "start_time": "2022-03-11T11:21:31.439Z"
   },
   {
    "duration": 12,
    "start_time": "2022-03-11T11:21:31.457Z"
   },
   {
    "duration": 5,
    "start_time": "2022-03-11T11:22:05.376Z"
   },
   {
    "duration": 25,
    "start_time": "2022-03-11T11:22:05.384Z"
   },
   {
    "duration": 10,
    "start_time": "2022-03-11T11:22:05.412Z"
   },
   {
    "duration": 13,
    "start_time": "2022-03-11T11:22:05.425Z"
   },
   {
    "duration": 30,
    "start_time": "2022-03-11T11:22:05.440Z"
   },
   {
    "duration": 9,
    "start_time": "2022-03-11T11:22:05.472Z"
   },
   {
    "duration": 22,
    "start_time": "2022-03-11T11:22:05.483Z"
   },
   {
    "duration": 20,
    "start_time": "2022-03-11T11:22:05.508Z"
   },
   {
    "duration": 9,
    "start_time": "2022-03-11T11:22:07.224Z"
   },
   {
    "duration": 6,
    "start_time": "2022-03-11T11:22:29.171Z"
   },
   {
    "duration": 31,
    "start_time": "2022-03-11T11:22:29.180Z"
   },
   {
    "duration": 21,
    "start_time": "2022-03-11T11:22:29.214Z"
   },
   {
    "duration": 15,
    "start_time": "2022-03-11T11:22:29.238Z"
   },
   {
    "duration": 36,
    "start_time": "2022-03-11T11:22:29.256Z"
   },
   {
    "duration": 22,
    "start_time": "2022-03-11T11:22:29.295Z"
   },
   {
    "duration": 20,
    "start_time": "2022-03-11T11:22:29.319Z"
   },
   {
    "duration": 26,
    "start_time": "2022-03-11T11:22:29.341Z"
   },
   {
    "duration": 12,
    "start_time": "2022-03-11T11:23:09.809Z"
   },
   {
    "duration": 17,
    "start_time": "2022-03-11T11:25:48.276Z"
   },
   {
    "duration": 17,
    "start_time": "2022-03-11T11:26:01.086Z"
   },
   {
    "duration": 5,
    "start_time": "2022-03-11T11:28:37.273Z"
   },
   {
    "duration": 19,
    "start_time": "2022-03-11T11:28:39.540Z"
   },
   {
    "duration": 8,
    "start_time": "2022-03-11T11:28:40.068Z"
   },
   {
    "duration": 17,
    "start_time": "2022-03-11T11:28:40.910Z"
   },
   {
    "duration": 545,
    "start_time": "2022-03-11T11:42:19.197Z"
   },
   {
    "duration": 147,
    "start_time": "2022-03-11T11:43:07.473Z"
   },
   {
    "duration": 21,
    "start_time": "2022-03-11T11:43:07.623Z"
   },
   {
    "duration": 14,
    "start_time": "2022-03-11T11:43:07.646Z"
   },
   {
    "duration": 11,
    "start_time": "2022-03-11T11:43:07.662Z"
   },
   {
    "duration": 34,
    "start_time": "2022-03-11T11:43:07.675Z"
   },
   {
    "duration": 6,
    "start_time": "2022-03-11T11:43:07.712Z"
   },
   {
    "duration": 41,
    "start_time": "2022-03-11T11:43:07.721Z"
   },
   {
    "duration": 9,
    "start_time": "2022-03-11T11:43:07.765Z"
   },
   {
    "duration": 18,
    "start_time": "2022-03-11T11:43:07.778Z"
   },
   {
    "duration": 579,
    "start_time": "2022-03-11T11:43:07.799Z"
   },
   {
    "duration": 555,
    "start_time": "2022-03-11T11:52:10.267Z"
   },
   {
    "duration": 538,
    "start_time": "2022-03-11T11:52:44.132Z"
   },
   {
    "duration": 248,
    "start_time": "2022-03-11T11:53:09.441Z"
   },
   {
    "duration": 548,
    "start_time": "2022-03-11T11:53:14.220Z"
   },
   {
    "duration": 273,
    "start_time": "2022-03-11T11:53:15.528Z"
   },
   {
    "duration": 4,
    "start_time": "2022-03-11T11:53:34.952Z"
   },
   {
    "duration": 23,
    "start_time": "2022-03-11T11:53:34.959Z"
   },
   {
    "duration": 13,
    "start_time": "2022-03-11T11:53:34.985Z"
   },
   {
    "duration": 18,
    "start_time": "2022-03-11T11:53:35.000Z"
   },
   {
    "duration": 40,
    "start_time": "2022-03-11T11:53:35.020Z"
   },
   {
    "duration": 5,
    "start_time": "2022-03-11T11:53:35.062Z"
   },
   {
    "duration": 22,
    "start_time": "2022-03-11T11:53:35.070Z"
   },
   {
    "duration": 8,
    "start_time": "2022-03-11T11:53:35.095Z"
   },
   {
    "duration": 48,
    "start_time": "2022-03-11T11:53:35.106Z"
   },
   {
    "duration": 574,
    "start_time": "2022-03-11T11:53:35.156Z"
   },
   {
    "duration": 269,
    "start_time": "2022-03-11T11:53:37.018Z"
   },
   {
    "duration": 334,
    "start_time": "2022-03-11T11:54:11.832Z"
   },
   {
    "duration": 278,
    "start_time": "2022-03-11T11:54:38.623Z"
   },
   {
    "duration": -834,
    "start_time": "2022-03-11T11:54:39.738Z"
   },
   {
    "duration": -834,
    "start_time": "2022-03-11T11:54:39.740Z"
   },
   {
    "duration": -833,
    "start_time": "2022-03-11T11:54:39.741Z"
   },
   {
    "duration": -834,
    "start_time": "2022-03-11T11:54:39.743Z"
   },
   {
    "duration": -835,
    "start_time": "2022-03-11T11:54:39.746Z"
   },
   {
    "duration": -835,
    "start_time": "2022-03-11T11:54:39.747Z"
   },
   {
    "duration": -835,
    "start_time": "2022-03-11T11:54:39.749Z"
   },
   {
    "duration": -836,
    "start_time": "2022-03-11T11:54:39.751Z"
   },
   {
    "duration": -835,
    "start_time": "2022-03-11T11:54:39.752Z"
   },
   {
    "duration": -835,
    "start_time": "2022-03-11T11:54:39.753Z"
   },
   {
    "duration": 551,
    "start_time": "2022-03-11T11:54:54.959Z"
   },
   {
    "duration": 324,
    "start_time": "2022-03-11T11:54:55.640Z"
   },
   {
    "duration": 310,
    "start_time": "2022-03-11T11:54:59.167Z"
   },
   {
    "duration": 624,
    "start_time": "2022-03-11T11:56:57.200Z"
   },
   {
    "duration": 686,
    "start_time": "2022-03-11T11:57:07.569Z"
   },
   {
    "duration": 353,
    "start_time": "2022-03-11T11:57:13.130Z"
   },
   {
    "duration": 440,
    "start_time": "2022-03-11T11:57:33.470Z"
   },
   {
    "duration": 380,
    "start_time": "2022-03-11T11:57:42.386Z"
   },
   {
    "duration": 347,
    "start_time": "2022-03-11T11:58:03.573Z"
   },
   {
    "duration": 374,
    "start_time": "2022-03-11T11:58:37.155Z"
   },
   {
    "duration": 420,
    "start_time": "2022-03-11T11:59:03.595Z"
   },
   {
    "duration": 1320,
    "start_time": "2022-03-12T07:23:51.924Z"
   },
   {
    "duration": -979,
    "start_time": "2022-03-12T07:23:54.225Z"
   },
   {
    "duration": -982,
    "start_time": "2022-03-12T07:23:54.229Z"
   },
   {
    "duration": -1028,
    "start_time": "2022-03-12T07:23:54.276Z"
   },
   {
    "duration": -1028,
    "start_time": "2022-03-12T07:23:54.277Z"
   },
   {
    "duration": -1029,
    "start_time": "2022-03-12T07:23:54.279Z"
   },
   {
    "duration": -1030,
    "start_time": "2022-03-12T07:23:54.281Z"
   },
   {
    "duration": -1030,
    "start_time": "2022-03-12T07:23:54.283Z"
   },
   {
    "duration": -1030,
    "start_time": "2022-03-12T07:23:54.284Z"
   },
   {
    "duration": -1031,
    "start_time": "2022-03-12T07:23:54.286Z"
   },
   {
    "duration": -1032,
    "start_time": "2022-03-12T07:23:54.288Z"
   },
   {
    "duration": 191,
    "start_time": "2022-03-12T07:24:19.873Z"
   },
   {
    "duration": 26,
    "start_time": "2022-03-12T07:24:20.080Z"
   },
   {
    "duration": 9,
    "start_time": "2022-03-12T07:24:20.470Z"
   },
   {
    "duration": 9,
    "start_time": "2022-03-12T07:24:21.335Z"
   },
   {
    "duration": 26,
    "start_time": "2022-03-12T07:24:22.145Z"
   },
   {
    "duration": 4,
    "start_time": "2022-03-12T07:24:22.402Z"
   },
   {
    "duration": 16,
    "start_time": "2022-03-12T07:24:22.603Z"
   },
   {
    "duration": 7,
    "start_time": "2022-03-12T07:24:22.779Z"
   },
   {
    "duration": 12,
    "start_time": "2022-03-12T07:24:22.966Z"
   },
   {
    "duration": 339,
    "start_time": "2022-03-12T07:24:23.579Z"
   },
   {
    "duration": 297,
    "start_time": "2022-03-12T07:24:24.577Z"
   },
   {
    "duration": 3,
    "start_time": "2022-03-12T07:24:39.284Z"
   },
   {
    "duration": 181,
    "start_time": "2022-03-12T07:24:45.221Z"
   },
   {
    "duration": 3,
    "start_time": "2022-03-12T07:25:39.016Z"
   },
   {
    "duration": 17,
    "start_time": "2022-03-12T07:25:43.591Z"
   },
   {
    "duration": 8,
    "start_time": "2022-03-12T07:25:44.169Z"
   },
   {
    "duration": 9,
    "start_time": "2022-03-12T07:25:44.268Z"
   },
   {
    "duration": 26,
    "start_time": "2022-03-12T07:25:44.370Z"
   },
   {
    "duration": 3,
    "start_time": "2022-03-12T07:25:44.401Z"
   },
   {
    "duration": 16,
    "start_time": "2022-03-12T07:25:44.433Z"
   },
   {
    "duration": 8,
    "start_time": "2022-03-12T07:25:45.269Z"
   },
   {
    "duration": 12,
    "start_time": "2022-03-12T07:25:45.707Z"
   },
   {
    "duration": 334,
    "start_time": "2022-03-12T07:25:46.630Z"
   },
   {
    "duration": 297,
    "start_time": "2022-03-12T07:25:47.544Z"
   },
   {
    "duration": 212,
    "start_time": "2022-03-12T07:26:27.757Z"
   },
   {
    "duration": 201,
    "start_time": "2022-03-12T07:26:35.307Z"
   },
   {
    "duration": 219,
    "start_time": "2022-03-12T07:27:06.842Z"
   },
   {
    "duration": 273,
    "start_time": "2022-03-12T07:27:22.616Z"
   },
   {
    "duration": 286,
    "start_time": "2022-03-12T07:30:57.885Z"
   },
   {
    "duration": 386,
    "start_time": "2022-03-12T07:32:32.363Z"
   },
   {
    "duration": 457,
    "start_time": "2022-03-12T07:32:41.991Z"
   },
   {
    "duration": 209,
    "start_time": "2022-03-12T07:35:11.825Z"
   },
   {
    "duration": 213,
    "start_time": "2022-03-12T07:37:03.569Z"
   },
   {
    "duration": 216,
    "start_time": "2022-03-12T07:37:14.601Z"
   },
   {
    "duration": 208,
    "start_time": "2022-03-12T07:37:26.525Z"
   },
   {
    "duration": 267,
    "start_time": "2022-03-12T07:37:46.238Z"
   },
   {
    "duration": 277,
    "start_time": "2022-03-12T07:37:55.220Z"
   },
   {
    "duration": 273,
    "start_time": "2022-03-12T07:37:59.148Z"
   },
   {
    "duration": 275,
    "start_time": "2022-03-12T07:38:02.630Z"
   },
   {
    "duration": 231,
    "start_time": "2022-03-12T07:38:16.504Z"
   },
   {
    "duration": 248,
    "start_time": "2022-03-12T07:39:23.008Z"
   },
   {
    "duration": 384,
    "start_time": "2022-03-12T07:41:03.878Z"
   },
   {
    "duration": 292,
    "start_time": "2022-03-12T07:41:22.887Z"
   },
   {
    "duration": 327,
    "start_time": "2022-03-12T07:41:30.070Z"
   },
   {
    "duration": 433,
    "start_time": "2022-03-12T07:41:37.903Z"
   },
   {
    "duration": 352,
    "start_time": "2022-03-12T07:42:09.138Z"
   },
   {
    "duration": 380,
    "start_time": "2022-03-12T07:42:53.451Z"
   },
   {
    "duration": 336,
    "start_time": "2022-03-12T07:43:03.352Z"
   },
   {
    "duration": 341,
    "start_time": "2022-03-12T07:43:13.158Z"
   },
   {
    "duration": 385,
    "start_time": "2022-03-12T07:44:24.285Z"
   },
   {
    "duration": 415,
    "start_time": "2022-03-12T07:44:39.873Z"
   },
   {
    "duration": 375,
    "start_time": "2022-03-12T07:44:49.471Z"
   },
   {
    "duration": 424,
    "start_time": "2022-03-12T07:44:56.513Z"
   },
   {
    "duration": 350,
    "start_time": "2022-03-12T07:45:03.596Z"
   },
   {
    "duration": 366,
    "start_time": "2022-03-12T07:46:28.300Z"
   },
   {
    "duration": 290,
    "start_time": "2022-03-12T07:47:18.037Z"
   },
   {
    "duration": 9,
    "start_time": "2022-03-12T07:48:03.931Z"
   },
   {
    "duration": 8,
    "start_time": "2022-03-12T07:48:13.296Z"
   },
   {
    "duration": 8,
    "start_time": "2022-03-12T08:29:06.968Z"
   },
   {
    "duration": 8,
    "start_time": "2022-03-12T08:29:13.885Z"
   },
   {
    "duration": 9,
    "start_time": "2022-03-12T08:29:34.624Z"
   },
   {
    "duration": 17,
    "start_time": "2022-03-12T08:42:16.213Z"
   },
   {
    "duration": 6,
    "start_time": "2022-03-12T08:42:21.482Z"
   },
   {
    "duration": 10,
    "start_time": "2022-03-12T08:42:36.275Z"
   },
   {
    "duration": 12,
    "start_time": "2022-03-12T08:42:42.327Z"
   },
   {
    "duration": 25,
    "start_time": "2022-03-12T08:43:05.352Z"
   },
   {
    "duration": 5,
    "start_time": "2022-03-12T08:43:49.942Z"
   },
   {
    "duration": 14,
    "start_time": "2022-03-12T08:44:11.611Z"
   },
   {
    "duration": 13,
    "start_time": "2022-03-12T08:44:32.543Z"
   },
   {
    "duration": 18,
    "start_time": "2022-03-12T08:44:37.819Z"
   },
   {
    "duration": 21,
    "start_time": "2022-03-12T08:45:28.182Z"
   },
   {
    "duration": 8,
    "start_time": "2022-03-12T08:46:58.691Z"
   },
   {
    "duration": 4628,
    "start_time": "2022-03-12T08:47:11.169Z"
   },
   {
    "duration": 9,
    "start_time": "2022-03-12T08:47:16.798Z"
   },
   {
    "duration": 385,
    "start_time": "2022-03-12T08:47:24.507Z"
   },
   {
    "duration": 19,
    "start_time": "2022-03-12T08:48:50.841Z"
   },
   {
    "duration": 265,
    "start_time": "2022-03-12T09:11:57.348Z"
   },
   {
    "duration": 385,
    "start_time": "2022-03-12T09:18:20.677Z"
   },
   {
    "duration": 8,
    "start_time": "2022-03-12T09:27:57.778Z"
   },
   {
    "duration": 267,
    "start_time": "2022-03-12T09:28:53.408Z"
   },
   {
    "duration": 312,
    "start_time": "2022-03-12T09:29:00.248Z"
   },
   {
    "duration": 109,
    "start_time": "2022-03-12T09:29:28.328Z"
   },
   {
    "duration": 374,
    "start_time": "2022-03-12T09:29:33.238Z"
   },
   {
    "duration": 359,
    "start_time": "2022-03-12T09:29:38.958Z"
   },
   {
    "duration": 115,
    "start_time": "2022-03-12T09:32:03.551Z"
   },
   {
    "duration": 503,
    "start_time": "2022-03-12T09:33:13.719Z"
   },
   {
    "duration": 482,
    "start_time": "2022-03-12T09:33:59.266Z"
   },
   {
    "duration": 514,
    "start_time": "2022-03-12T09:34:05.488Z"
   },
   {
    "duration": 528,
    "start_time": "2022-03-12T09:35:00.892Z"
   },
   {
    "duration": 452,
    "start_time": "2022-03-12T09:35:09.158Z"
   },
   {
    "duration": 372,
    "start_time": "2022-03-12T09:35:55.266Z"
   },
   {
    "duration": 470,
    "start_time": "2022-03-12T09:36:25.147Z"
   },
   {
    "duration": 4,
    "start_time": "2022-03-12T09:42:13.580Z"
   },
   {
    "duration": 4,
    "start_time": "2022-03-12T09:49:56.816Z"
   },
   {
    "duration": 6,
    "start_time": "2022-03-12T10:00:15.548Z"
   },
   {
    "duration": 6,
    "start_time": "2022-03-12T10:00:27.153Z"
   },
   {
    "duration": 8,
    "start_time": "2022-03-12T10:00:41.903Z"
   },
   {
    "duration": 13,
    "start_time": "2022-03-12T10:01:18.741Z"
   },
   {
    "duration": 5,
    "start_time": "2022-03-12T10:01:30.596Z"
   },
   {
    "duration": 1307,
    "start_time": "2022-03-13T17:37:58.737Z"
   },
   {
    "duration": 39,
    "start_time": "2022-03-13T17:38:00.046Z"
   },
   {
    "duration": 11,
    "start_time": "2022-03-13T17:38:00.089Z"
   },
   {
    "duration": 9,
    "start_time": "2022-03-13T17:38:00.102Z"
   },
   {
    "duration": 43,
    "start_time": "2022-03-13T17:38:00.113Z"
   },
   {
    "duration": 5,
    "start_time": "2022-03-13T17:38:00.158Z"
   },
   {
    "duration": 20,
    "start_time": "2022-03-13T17:38:00.165Z"
   },
   {
    "duration": 8,
    "start_time": "2022-03-13T17:38:00.187Z"
   },
   {
    "duration": 17,
    "start_time": "2022-03-13T17:38:00.199Z"
   },
   {
    "duration": 337,
    "start_time": "2022-03-13T17:38:00.218Z"
   },
   {
    "duration": 288,
    "start_time": "2022-03-13T17:38:00.557Z"
   },
   {
    "duration": 264,
    "start_time": "2022-03-13T17:38:00.846Z"
   },
   {
    "duration": 273,
    "start_time": "2022-03-13T17:38:01.111Z"
   },
   {
    "duration": -492,
    "start_time": "2022-03-13T17:38:01.878Z"
   },
   {
    "duration": -494,
    "start_time": "2022-03-13T17:38:01.881Z"
   },
   {
    "duration": -495,
    "start_time": "2022-03-13T17:38:01.883Z"
   },
   {
    "duration": -496,
    "start_time": "2022-03-13T17:38:01.885Z"
   },
   {
    "duration": -500,
    "start_time": "2022-03-13T17:38:01.889Z"
   },
   {
    "duration": -501,
    "start_time": "2022-03-13T17:38:01.891Z"
   },
   {
    "duration": -503,
    "start_time": "2022-03-13T17:38:01.894Z"
   },
   {
    "duration": 171,
    "start_time": "2022-03-13T17:38:49.399Z"
   },
   {
    "duration": 386,
    "start_time": "2022-03-13T17:38:50.438Z"
   },
   {
    "duration": 260,
    "start_time": "2022-03-13T17:38:52.921Z"
   },
   {
    "duration": 20,
    "start_time": "2022-03-13T17:39:16.087Z"
   },
   {
    "duration": 418,
    "start_time": "2022-03-13T17:39:53.230Z"
   },
   {
    "duration": 419,
    "start_time": "2022-03-13T17:40:26.044Z"
   },
   {
    "duration": 5,
    "start_time": "2022-03-13T17:40:27.933Z"
   },
   {
    "duration": 345,
    "start_time": "2022-03-13T17:40:30.326Z"
   },
   {
    "duration": 6,
    "start_time": "2022-03-13T17:40:53.089Z"
   },
   {
    "duration": 240,
    "start_time": "2022-03-13T17:59:43.317Z"
   },
   {
    "duration": 221,
    "start_time": "2022-03-13T17:59:55.766Z"
   },
   {
    "duration": 33,
    "start_time": "2022-03-13T18:01:27.393Z"
   },
   {
    "duration": 53,
    "start_time": "2022-03-13T18:02:46.624Z"
   },
   {
    "duration": 40,
    "start_time": "2022-03-13T18:03:35.048Z"
   },
   {
    "duration": 1071,
    "start_time": "2022-03-14T08:31:23.319Z"
   },
   {
    "duration": 29,
    "start_time": "2022-03-14T08:31:24.392Z"
   },
   {
    "duration": 15,
    "start_time": "2022-03-14T08:31:24.423Z"
   },
   {
    "duration": 8,
    "start_time": "2022-03-14T08:31:24.441Z"
   },
   {
    "duration": 31,
    "start_time": "2022-03-14T08:31:24.451Z"
   },
   {
    "duration": 4,
    "start_time": "2022-03-14T08:31:24.484Z"
   },
   {
    "duration": 20,
    "start_time": "2022-03-14T08:31:24.491Z"
   },
   {
    "duration": 10,
    "start_time": "2022-03-14T08:31:24.514Z"
   },
   {
    "duration": 19,
    "start_time": "2022-03-14T08:31:24.526Z"
   },
   {
    "duration": 487,
    "start_time": "2022-03-14T08:31:24.547Z"
   },
   {
    "duration": 305,
    "start_time": "2022-03-14T08:31:25.036Z"
   },
   {
    "duration": 289,
    "start_time": "2022-03-14T08:31:25.343Z"
   },
   {
    "duration": 382,
    "start_time": "2022-03-14T08:31:25.634Z"
   },
   {
    "duration": 20,
    "start_time": "2022-03-14T08:31:26.018Z"
   },
   {
    "duration": 295,
    "start_time": "2022-03-14T08:31:26.039Z"
   },
   {
    "duration": 386,
    "start_time": "2022-03-14T08:31:26.335Z"
   },
   {
    "duration": 471,
    "start_time": "2022-03-14T08:31:26.723Z"
   },
   {
    "duration": 7,
    "start_time": "2022-03-14T08:31:27.196Z"
   },
   {
    "duration": 369,
    "start_time": "2022-03-14T08:31:27.205Z"
   },
   {
    "duration": 5,
    "start_time": "2022-03-14T08:31:27.577Z"
   },
   {
    "duration": 270,
    "start_time": "2022-03-14T08:31:27.584Z"
   },
   {
    "duration": 407,
    "start_time": "2022-03-14T08:31:27.855Z"
   },
   {
    "duration": 4,
    "start_time": "2022-03-14T09:08:07.752Z"
   },
   {
    "duration": 26,
    "start_time": "2022-03-14T09:08:07.759Z"
   },
   {
    "duration": 12,
    "start_time": "2022-03-14T09:08:07.787Z"
   },
   {
    "duration": 13,
    "start_time": "2022-03-14T09:08:07.801Z"
   },
   {
    "duration": 36,
    "start_time": "2022-03-14T09:08:07.817Z"
   },
   {
    "duration": 4,
    "start_time": "2022-03-14T09:08:07.855Z"
   },
   {
    "duration": 22,
    "start_time": "2022-03-14T09:08:07.862Z"
   },
   {
    "duration": 12,
    "start_time": "2022-03-14T09:08:07.886Z"
   },
   {
    "duration": 15,
    "start_time": "2022-03-14T09:08:07.900Z"
   },
   {
    "duration": 468,
    "start_time": "2022-03-14T09:08:07.917Z"
   },
   {
    "duration": 357,
    "start_time": "2022-03-14T09:08:08.387Z"
   },
   {
    "duration": 373,
    "start_time": "2022-03-14T09:08:08.746Z"
   },
   {
    "duration": 401,
    "start_time": "2022-03-14T09:08:09.122Z"
   },
   {
    "duration": 20,
    "start_time": "2022-03-14T09:08:09.525Z"
   },
   {
    "duration": 310,
    "start_time": "2022-03-14T09:08:09.548Z"
   },
   {
    "duration": 490,
    "start_time": "2022-03-14T09:08:09.861Z"
   },
   {
    "duration": 497,
    "start_time": "2022-03-14T09:08:10.354Z"
   },
   {
    "duration": 4,
    "start_time": "2022-03-14T09:08:10.853Z"
   },
   {
    "duration": 362,
    "start_time": "2022-03-14T09:08:10.860Z"
   },
   {
    "duration": 6,
    "start_time": "2022-03-14T09:08:11.224Z"
   },
   {
    "duration": 272,
    "start_time": "2022-03-14T09:08:11.232Z"
   },
   {
    "duration": 52,
    "start_time": "2022-03-14T09:08:11.507Z"
   },
   {
    "duration": 1342,
    "start_time": "2022-03-14T09:08:41.367Z"
   },
   {
    "duration": 1167,
    "start_time": "2022-03-14T09:08:56.210Z"
   },
   {
    "duration": 234,
    "start_time": "2022-03-14T09:09:17.587Z"
   },
   {
    "duration": 4,
    "start_time": "2022-03-14T09:09:34.512Z"
   },
   {
    "duration": 22,
    "start_time": "2022-03-14T09:09:34.519Z"
   },
   {
    "duration": 15,
    "start_time": "2022-03-14T09:09:34.543Z"
   },
   {
    "duration": 17,
    "start_time": "2022-03-14T09:09:34.560Z"
   },
   {
    "duration": 36,
    "start_time": "2022-03-14T09:09:34.580Z"
   },
   {
    "duration": 4,
    "start_time": "2022-03-14T09:09:34.618Z"
   },
   {
    "duration": 20,
    "start_time": "2022-03-14T09:09:34.624Z"
   },
   {
    "duration": 9,
    "start_time": "2022-03-14T09:09:34.646Z"
   },
   {
    "duration": 17,
    "start_time": "2022-03-14T09:09:34.657Z"
   },
   {
    "duration": 390,
    "start_time": "2022-03-14T09:09:34.677Z"
   },
   {
    "duration": 291,
    "start_time": "2022-03-14T09:09:35.069Z"
   },
   {
    "duration": 283,
    "start_time": "2022-03-14T09:09:35.362Z"
   },
   {
    "duration": 381,
    "start_time": "2022-03-14T09:09:35.647Z"
   },
   {
    "duration": 17,
    "start_time": "2022-03-14T09:09:36.030Z"
   },
   {
    "duration": 459,
    "start_time": "2022-03-14T09:09:36.049Z"
   },
   {
    "duration": 394,
    "start_time": "2022-03-14T09:09:36.510Z"
   },
   {
    "duration": 456,
    "start_time": "2022-03-14T09:09:36.906Z"
   },
   {
    "duration": 5,
    "start_time": "2022-03-14T09:09:37.364Z"
   },
   {
    "duration": 390,
    "start_time": "2022-03-14T09:09:37.371Z"
   },
   {
    "duration": 6,
    "start_time": "2022-03-14T09:09:37.763Z"
   },
   {
    "duration": 318,
    "start_time": "2022-03-14T09:09:37.771Z"
   },
   {
    "duration": 189,
    "start_time": "2022-03-14T09:09:38.091Z"
   },
   {
    "duration": 13,
    "start_time": "2022-03-14T09:19:19.211Z"
   },
   {
    "duration": 12,
    "start_time": "2022-03-14T09:19:30.935Z"
   },
   {
    "duration": 15,
    "start_time": "2022-03-14T09:20:17.981Z"
   },
   {
    "duration": 10,
    "start_time": "2022-03-14T09:26:45.892Z"
   },
   {
    "duration": 5,
    "start_time": "2022-03-14T09:27:33.253Z"
   },
   {
    "duration": 266,
    "start_time": "2022-03-14T09:27:42.296Z"
   },
   {
    "duration": 6,
    "start_time": "2022-03-14T09:28:04.666Z"
   },
   {
    "duration": 6,
    "start_time": "2022-03-14T09:28:20.834Z"
   },
   {
    "duration": 18,
    "start_time": "2022-03-14T09:32:36.766Z"
   },
   {
    "duration": 10,
    "start_time": "2022-03-14T09:34:19.520Z"
   },
   {
    "duration": 9,
    "start_time": "2022-03-14T09:34:28.766Z"
   },
   {
    "duration": 17,
    "start_time": "2022-03-14T09:36:30.239Z"
   },
   {
    "duration": 325,
    "start_time": "2022-03-14T10:18:07.393Z"
   },
   {
    "duration": 10,
    "start_time": "2022-03-14T10:18:59.836Z"
   },
   {
    "duration": 9,
    "start_time": "2022-03-14T10:19:00.277Z"
   },
   {
    "duration": 15,
    "start_time": "2022-03-14T10:19:20.953Z"
   },
   {
    "duration": 295,
    "start_time": "2022-03-14T10:26:57.693Z"
   },
   {
    "duration": 400,
    "start_time": "2022-03-14T10:27:44.104Z"
   },
   {
    "duration": 418,
    "start_time": "2022-03-14T10:28:04.496Z"
   },
   {
    "duration": 282,
    "start_time": "2022-03-14T10:28:26.792Z"
   },
   {
    "duration": 294,
    "start_time": "2022-03-14T10:29:41.307Z"
   },
   {
    "duration": 510,
    "start_time": "2022-03-14T10:29:52.354Z"
   },
   {
    "duration": 608,
    "start_time": "2022-03-14T10:30:46.936Z"
   },
   {
    "duration": 406,
    "start_time": "2022-03-14T10:32:33.987Z"
   },
   {
    "duration": 374,
    "start_time": "2022-03-14T10:32:45.427Z"
   },
   {
    "duration": 341,
    "start_time": "2022-03-14T10:32:55.945Z"
   },
   {
    "duration": 1536,
    "start_time": "2022-03-15T07:28:51.549Z"
   },
   {
    "duration": 30,
    "start_time": "2022-03-15T07:28:53.088Z"
   },
   {
    "duration": 5,
    "start_time": "2022-03-15T07:28:57.238Z"
   },
   {
    "duration": 21,
    "start_time": "2022-03-15T07:28:57.559Z"
   },
   {
    "duration": 1315,
    "start_time": "2022-03-15T10:08:20.144Z"
   },
   {
    "duration": 27,
    "start_time": "2022-03-15T10:08:21.462Z"
   },
   {
    "duration": 12,
    "start_time": "2022-03-15T10:08:21.492Z"
   },
   {
    "duration": 11,
    "start_time": "2022-03-15T10:08:21.506Z"
   },
   {
    "duration": 60,
    "start_time": "2022-03-15T10:08:21.520Z"
   },
   {
    "duration": 6,
    "start_time": "2022-03-15T10:08:21.583Z"
   },
   {
    "duration": 23,
    "start_time": "2022-03-15T10:08:21.592Z"
   },
   {
    "duration": 9,
    "start_time": "2022-03-15T10:08:21.618Z"
   },
   {
    "duration": 16,
    "start_time": "2022-03-15T10:08:21.650Z"
   },
   {
    "duration": 23,
    "start_time": "2022-03-15T10:08:21.669Z"
   },
   {
    "duration": 688,
    "start_time": "2022-03-15T10:08:21.695Z"
   },
   {
    "duration": 492,
    "start_time": "2022-03-15T10:08:22.386Z"
   },
   {
    "duration": 449,
    "start_time": "2022-03-15T10:08:22.881Z"
   },
   {
    "duration": 546,
    "start_time": "2022-03-15T10:08:23.332Z"
   },
   {
    "duration": 416,
    "start_time": "2022-03-15T10:08:23.880Z"
   },
   {
    "duration": 583,
    "start_time": "2022-03-15T10:08:24.298Z"
   },
   {
    "duration": 649,
    "start_time": "2022-03-15T10:08:24.884Z"
   },
   {
    "duration": 16,
    "start_time": "2022-03-15T10:08:25.536Z"
   },
   {
    "duration": 471,
    "start_time": "2022-03-15T10:08:25.554Z"
   },
   {
    "duration": 7,
    "start_time": "2022-03-15T10:08:26.027Z"
   },
   {
    "duration": 464,
    "start_time": "2022-03-15T10:08:26.037Z"
   },
   {
    "duration": 223,
    "start_time": "2022-03-15T10:08:26.504Z"
   },
   {
    "duration": 21,
    "start_time": "2022-03-15T10:08:26.731Z"
   },
   {
    "duration": 15,
    "start_time": "2022-03-15T10:08:26.755Z"
   },
   {
    "duration": 15,
    "start_time": "2022-03-15T10:08:26.773Z"
   },
   {
    "duration": 12,
    "start_time": "2022-03-15T10:08:26.791Z"
   },
   {
    "duration": 23,
    "start_time": "2022-03-15T10:08:26.852Z"
   },
   {
    "duration": 5,
    "start_time": "2022-03-15T10:08:39.040Z"
   },
   {
    "duration": 21,
    "start_time": "2022-03-15T10:08:40.055Z"
   },
   {
    "duration": 11,
    "start_time": "2022-03-15T10:08:48.536Z"
   },
   {
    "duration": 12,
    "start_time": "2022-03-15T10:09:00.260Z"
   },
   {
    "duration": 1406,
    "start_time": "2022-03-16T12:58:22.955Z"
   },
   {
    "duration": 29,
    "start_time": "2022-03-16T12:58:24.364Z"
   },
   {
    "duration": 16,
    "start_time": "2022-03-16T12:58:24.397Z"
   },
   {
    "duration": 11,
    "start_time": "2022-03-16T12:58:24.416Z"
   },
   {
    "duration": 36,
    "start_time": "2022-03-16T12:58:24.431Z"
   },
   {
    "duration": 24,
    "start_time": "2022-03-16T12:58:24.469Z"
   },
   {
    "duration": 21,
    "start_time": "2022-03-16T12:58:24.495Z"
   },
   {
    "duration": 8,
    "start_time": "2022-03-16T12:58:24.520Z"
   },
   {
    "duration": 56,
    "start_time": "2022-03-16T12:58:24.531Z"
   },
   {
    "duration": 20,
    "start_time": "2022-03-16T12:58:24.589Z"
   },
   {
    "duration": 634,
    "start_time": "2022-03-16T12:58:24.612Z"
   },
   {
    "duration": 475,
    "start_time": "2022-03-16T12:58:25.249Z"
   },
   {
    "duration": 460,
    "start_time": "2022-03-16T12:58:25.727Z"
   },
   {
    "duration": 573,
    "start_time": "2022-03-16T12:58:26.191Z"
   },
   {
    "duration": 445,
    "start_time": "2022-03-16T12:58:26.767Z"
   },
   {
    "duration": 546,
    "start_time": "2022-03-16T12:58:27.215Z"
   },
   {
    "duration": 988,
    "start_time": "2022-03-16T12:58:27.764Z"
   },
   {
    "duration": 8,
    "start_time": "2022-03-16T12:58:28.755Z"
   },
   {
    "duration": 522,
    "start_time": "2022-03-16T12:58:28.765Z"
   },
   {
    "duration": 7,
    "start_time": "2022-03-16T12:58:29.289Z"
   },
   {
    "duration": 530,
    "start_time": "2022-03-16T12:58:29.299Z"
   },
   {
    "duration": 286,
    "start_time": "2022-03-16T12:58:29.832Z"
   },
   {
    "duration": 14,
    "start_time": "2022-03-16T12:58:30.123Z"
   },
   {
    "duration": 16,
    "start_time": "2022-03-16T12:58:30.139Z"
   },
   {
    "duration": 45,
    "start_time": "2022-03-16T12:58:30.158Z"
   },
   {
    "duration": 10,
    "start_time": "2022-03-16T12:58:30.206Z"
   },
   {
    "duration": 28,
    "start_time": "2022-03-16T12:58:30.219Z"
   },
   {
    "duration": 156,
    "start_time": "2022-03-16T13:09:20.341Z"
   },
   {
    "duration": 24,
    "start_time": "2022-03-16T13:12:09.479Z"
   },
   {
    "duration": 14,
    "start_time": "2022-03-16T13:12:17.608Z"
   },
   {
    "duration": 394,
    "start_time": "2022-03-16T13:13:45.298Z"
   },
   {
    "duration": 368,
    "start_time": "2022-03-16T13:13:55.360Z"
   },
   {
    "duration": 352,
    "start_time": "2022-03-16T13:15:09.998Z"
   },
   {
    "duration": 370,
    "start_time": "2022-03-16T13:15:14.398Z"
   },
   {
    "duration": 390,
    "start_time": "2022-03-16T13:15:21.729Z"
   },
   {
    "duration": 381,
    "start_time": "2022-03-16T13:15:54.049Z"
   },
   {
    "duration": 391,
    "start_time": "2022-03-16T13:16:16.184Z"
   },
   {
    "duration": 361,
    "start_time": "2022-03-16T13:16:41.126Z"
   },
   {
    "duration": 387,
    "start_time": "2022-03-16T13:17:57.847Z"
   },
   {
    "duration": 377,
    "start_time": "2022-03-16T13:18:11.320Z"
   },
   {
    "duration": 6,
    "start_time": "2022-03-16T17:34:36.184Z"
   },
   {
    "duration": 40,
    "start_time": "2022-03-16T17:34:36.195Z"
   },
   {
    "duration": 29,
    "start_time": "2022-03-16T17:34:36.237Z"
   },
   {
    "duration": 36,
    "start_time": "2022-03-16T17:34:36.268Z"
   },
   {
    "duration": 50,
    "start_time": "2022-03-16T17:34:36.306Z"
   },
   {
    "duration": 24,
    "start_time": "2022-03-16T17:34:36.358Z"
   },
   {
    "duration": 55,
    "start_time": "2022-03-16T17:34:36.385Z"
   },
   {
    "duration": 30,
    "start_time": "2022-03-16T17:34:36.443Z"
   },
   {
    "duration": 20,
    "start_time": "2022-03-16T17:34:36.476Z"
   },
   {
    "duration": 22,
    "start_time": "2022-03-16T17:34:36.501Z"
   },
   {
    "duration": 393,
    "start_time": "2022-03-16T17:34:36.526Z"
   },
   {
    "duration": 682,
    "start_time": "2022-03-16T17:34:36.922Z"
   },
   {
    "duration": 517,
    "start_time": "2022-03-16T17:34:37.607Z"
   },
   {
    "duration": 449,
    "start_time": "2022-03-16T17:34:38.126Z"
   },
   {
    "duration": 561,
    "start_time": "2022-03-16T17:34:38.577Z"
   },
   {
    "duration": 447,
    "start_time": "2022-03-16T17:34:39.140Z"
   },
   {
    "duration": 556,
    "start_time": "2022-03-16T17:34:39.589Z"
   },
   {
    "duration": 697,
    "start_time": "2022-03-16T17:34:40.148Z"
   },
   {
    "duration": 7,
    "start_time": "2022-03-16T17:34:40.847Z"
   },
   {
    "duration": 524,
    "start_time": "2022-03-16T17:34:40.856Z"
   },
   {
    "duration": 9,
    "start_time": "2022-03-16T17:34:41.382Z"
   },
   {
    "duration": 469,
    "start_time": "2022-03-16T17:34:41.393Z"
   },
   {
    "duration": 274,
    "start_time": "2022-03-16T17:34:41.865Z"
   },
   {
    "duration": 13,
    "start_time": "2022-03-16T17:34:42.143Z"
   },
   {
    "duration": 38,
    "start_time": "2022-03-16T17:34:42.158Z"
   },
   {
    "duration": 37,
    "start_time": "2022-03-16T17:34:42.199Z"
   },
   {
    "duration": 37,
    "start_time": "2022-03-16T17:34:42.238Z"
   },
   {
    "duration": 28,
    "start_time": "2022-03-16T17:34:42.277Z"
   },
   {
    "duration": 348,
    "start_time": "2022-03-16T17:35:43.907Z"
   },
   {
    "duration": 345,
    "start_time": "2022-03-16T17:36:06.398Z"
   },
   {
    "duration": 354,
    "start_time": "2022-03-16T17:36:37.772Z"
   },
   {
    "duration": 362,
    "start_time": "2022-03-16T17:37:06.018Z"
   },
   {
    "duration": 389,
    "start_time": "2022-03-16T17:37:45.802Z"
   },
   {
    "duration": 350,
    "start_time": "2022-03-16T17:38:43.837Z"
   },
   {
    "duration": 364,
    "start_time": "2022-03-16T17:39:05.652Z"
   },
   {
    "duration": 17,
    "start_time": "2022-03-16T17:40:18.019Z"
   },
   {
    "duration": 11,
    "start_time": "2022-03-16T17:40:38.547Z"
   },
   {
    "duration": 13,
    "start_time": "2022-03-16T17:43:38.019Z"
   },
   {
    "duration": 17,
    "start_time": "2022-03-16T17:45:04.295Z"
   },
   {
    "duration": 6,
    "start_time": "2022-03-16T17:45:28.235Z"
   },
   {
    "duration": 18,
    "start_time": "2022-03-16T17:45:46.998Z"
   },
   {
    "duration": 171,
    "start_time": "2022-03-16T17:46:26.780Z"
   },
   {
    "duration": 20,
    "start_time": "2022-03-16T17:46:33.820Z"
   },
   {
    "duration": 171,
    "start_time": "2022-03-16T17:48:01.484Z"
   },
   {
    "duration": 11,
    "start_time": "2022-03-16T17:48:13.696Z"
   },
   {
    "duration": 14,
    "start_time": "2022-03-16T17:48:19.335Z"
   },
   {
    "duration": 1183,
    "start_time": "2022-03-17T07:29:44.775Z"
   },
   {
    "duration": 94,
    "start_time": "2022-03-17T07:29:45.960Z"
   },
   {
    "duration": 9,
    "start_time": "2022-03-17T07:29:46.055Z"
   },
   {
    "duration": 15,
    "start_time": "2022-03-17T07:29:46.066Z"
   },
   {
    "duration": 51,
    "start_time": "2022-03-17T07:29:46.083Z"
   },
   {
    "duration": 3,
    "start_time": "2022-03-17T07:29:46.136Z"
   },
   {
    "duration": 24,
    "start_time": "2022-03-17T07:29:46.141Z"
   },
   {
    "duration": 7,
    "start_time": "2022-03-17T07:29:46.167Z"
   },
   {
    "duration": 28,
    "start_time": "2022-03-17T07:29:46.176Z"
   },
   {
    "duration": 17,
    "start_time": "2022-03-17T07:29:46.207Z"
   },
   {
    "duration": 103,
    "start_time": "2022-03-17T07:29:46.225Z"
   },
   {
    "duration": 277,
    "start_time": "2022-03-17T07:29:46.329Z"
   },
   {
    "duration": 259,
    "start_time": "2022-03-17T07:29:46.608Z"
   },
   {
    "duration": 281,
    "start_time": "2022-03-17T07:29:46.869Z"
   },
   {
    "duration": 443,
    "start_time": "2022-03-17T07:29:47.152Z"
   },
   {
    "duration": 451,
    "start_time": "2022-03-17T07:29:47.597Z"
   },
   {
    "duration": 0,
    "start_time": "2022-03-17T07:29:48.050Z"
   },
   {
    "duration": 0,
    "start_time": "2022-03-17T07:29:48.052Z"
   },
   {
    "duration": 0,
    "start_time": "2022-03-17T07:29:48.053Z"
   },
   {
    "duration": 0,
    "start_time": "2022-03-17T07:29:48.054Z"
   },
   {
    "duration": 0,
    "start_time": "2022-03-17T07:29:48.055Z"
   },
   {
    "duration": 0,
    "start_time": "2022-03-17T07:29:48.056Z"
   },
   {
    "duration": 0,
    "start_time": "2022-03-17T07:29:48.058Z"
   },
   {
    "duration": 0,
    "start_time": "2022-03-17T07:29:48.059Z"
   },
   {
    "duration": 1,
    "start_time": "2022-03-17T07:29:48.059Z"
   },
   {
    "duration": 0,
    "start_time": "2022-03-17T07:29:48.061Z"
   },
   {
    "duration": 0,
    "start_time": "2022-03-17T07:29:48.080Z"
   },
   {
    "duration": 0,
    "start_time": "2022-03-17T07:29:48.081Z"
   },
   {
    "duration": 0,
    "start_time": "2022-03-17T07:29:48.082Z"
   },
   {
    "duration": 213,
    "start_time": "2022-03-17T07:34:24.476Z"
   },
   {
    "duration": 214,
    "start_time": "2022-03-17T07:41:15.264Z"
   },
   {
    "duration": 4,
    "start_time": "2022-03-17T07:41:30.396Z"
   },
   {
    "duration": 26,
    "start_time": "2022-03-17T07:41:30.402Z"
   },
   {
    "duration": 7,
    "start_time": "2022-03-17T07:41:30.429Z"
   },
   {
    "duration": 11,
    "start_time": "2022-03-17T07:41:30.438Z"
   },
   {
    "duration": 50,
    "start_time": "2022-03-17T07:41:30.451Z"
   },
   {
    "duration": 3,
    "start_time": "2022-03-17T07:41:30.503Z"
   },
   {
    "duration": 33,
    "start_time": "2022-03-17T07:41:30.508Z"
   },
   {
    "duration": 7,
    "start_time": "2022-03-17T07:41:30.543Z"
   },
   {
    "duration": 22,
    "start_time": "2022-03-17T07:41:30.552Z"
   },
   {
    "duration": 12,
    "start_time": "2022-03-17T07:41:30.576Z"
   },
   {
    "duration": 101,
    "start_time": "2022-03-17T07:41:30.589Z"
   },
   {
    "duration": 265,
    "start_time": "2022-03-17T07:41:30.692Z"
   },
   {
    "duration": 221,
    "start_time": "2022-03-17T07:41:30.959Z"
   },
   {
    "duration": 189,
    "start_time": "2022-03-17T07:41:31.182Z"
   },
   {
    "duration": 322,
    "start_time": "2022-03-17T07:41:31.381Z"
   },
   {
    "duration": 270,
    "start_time": "2022-03-17T07:41:33.577Z"
   },
   {
    "duration": 202,
    "start_time": "2022-03-17T07:41:56.138Z"
   },
   {
    "duration": 11,
    "start_time": "2022-03-17T07:46:13.729Z"
   },
   {
    "duration": 13,
    "start_time": "2022-03-17T07:46:50.675Z"
   },
   {
    "duration": 15,
    "start_time": "2022-03-17T07:46:56.354Z"
   },
   {
    "duration": 12,
    "start_time": "2022-03-17T07:47:16.708Z"
   },
   {
    "duration": 10,
    "start_time": "2022-03-17T07:47:58.415Z"
   },
   {
    "duration": 4,
    "start_time": "2022-03-17T07:49:04.524Z"
   },
   {
    "duration": 205,
    "start_time": "2022-03-17T07:49:06.029Z"
   },
   {
    "duration": 147,
    "start_time": "2022-03-17T07:49:07.269Z"
   },
   {
    "duration": 9,
    "start_time": "2022-03-17T07:49:25.558Z"
   },
   {
    "duration": 4,
    "start_time": "2022-03-17T07:49:51.576Z"
   },
   {
    "duration": 38,
    "start_time": "2022-03-17T07:49:51.584Z"
   },
   {
    "duration": 8,
    "start_time": "2022-03-17T07:49:51.624Z"
   },
   {
    "duration": 10,
    "start_time": "2022-03-17T07:49:51.634Z"
   },
   {
    "duration": 46,
    "start_time": "2022-03-17T07:49:51.646Z"
   },
   {
    "duration": 3,
    "start_time": "2022-03-17T07:49:51.694Z"
   },
   {
    "duration": 25,
    "start_time": "2022-03-17T07:49:51.698Z"
   },
   {
    "duration": 7,
    "start_time": "2022-03-17T07:49:51.724Z"
   },
   {
    "duration": 20,
    "start_time": "2022-03-17T07:49:51.733Z"
   },
   {
    "duration": 12,
    "start_time": "2022-03-17T07:49:51.754Z"
   },
   {
    "duration": 71,
    "start_time": "2022-03-17T07:49:51.782Z"
   },
   {
    "duration": 27,
    "start_time": "2022-03-17T07:49:51.855Z"
   },
   {
    "duration": 268,
    "start_time": "2022-03-17T07:49:51.884Z"
   },
   {
    "duration": 286,
    "start_time": "2022-03-17T07:49:52.154Z"
   },
   {
    "duration": 286,
    "start_time": "2022-03-17T07:49:52.442Z"
   },
   {
    "duration": 399,
    "start_time": "2022-03-17T07:49:52.730Z"
   },
   {
    "duration": 211,
    "start_time": "2022-03-17T07:49:53.131Z"
   },
   {
    "duration": 326,
    "start_time": "2022-03-17T07:49:53.344Z"
   },
   {
    "duration": 0,
    "start_time": "2022-03-17T07:49:53.672Z"
   },
   {
    "duration": 0,
    "start_time": "2022-03-17T07:49:53.673Z"
   },
   {
    "duration": 0,
    "start_time": "2022-03-17T07:49:53.674Z"
   },
   {
    "duration": 0,
    "start_time": "2022-03-17T07:49:53.681Z"
   },
   {
    "duration": 0,
    "start_time": "2022-03-17T07:49:53.682Z"
   },
   {
    "duration": 0,
    "start_time": "2022-03-17T07:49:53.683Z"
   },
   {
    "duration": 0,
    "start_time": "2022-03-17T07:49:53.684Z"
   },
   {
    "duration": 0,
    "start_time": "2022-03-17T07:49:53.685Z"
   },
   {
    "duration": 0,
    "start_time": "2022-03-17T07:49:53.686Z"
   },
   {
    "duration": 0,
    "start_time": "2022-03-17T07:49:53.687Z"
   },
   {
    "duration": 0,
    "start_time": "2022-03-17T07:49:53.687Z"
   },
   {
    "duration": 0,
    "start_time": "2022-03-17T07:49:53.688Z"
   },
   {
    "duration": 10,
    "start_time": "2022-03-17T07:53:03.444Z"
   },
   {
    "duration": 8,
    "start_time": "2022-03-17T07:53:08.163Z"
   },
   {
    "duration": 8,
    "start_time": "2022-03-17T07:53:11.479Z"
   },
   {
    "duration": 20,
    "start_time": "2022-03-17T07:53:12.366Z"
   },
   {
    "duration": 231,
    "start_time": "2022-03-17T07:53:33.425Z"
   },
   {
    "duration": 144,
    "start_time": "2022-03-17T07:53:34.513Z"
   },
   {
    "duration": 9,
    "start_time": "2022-03-17T07:54:16.994Z"
   },
   {
    "duration": 11,
    "start_time": "2022-03-17T07:59:59.756Z"
   },
   {
    "duration": 37,
    "start_time": "2022-03-17T08:00:00.190Z"
   },
   {
    "duration": 12,
    "start_time": "2022-03-17T08:06:19.953Z"
   },
   {
    "duration": 4,
    "start_time": "2022-03-17T08:09:28.942Z"
   },
   {
    "duration": 36,
    "start_time": "2022-03-17T08:09:28.948Z"
   },
   {
    "duration": 8,
    "start_time": "2022-03-17T08:09:28.986Z"
   },
   {
    "duration": 12,
    "start_time": "2022-03-17T08:09:28.996Z"
   },
   {
    "duration": 45,
    "start_time": "2022-03-17T08:09:29.010Z"
   },
   {
    "duration": 4,
    "start_time": "2022-03-17T08:09:29.057Z"
   },
   {
    "duration": 27,
    "start_time": "2022-03-17T08:09:29.062Z"
   },
   {
    "duration": 6,
    "start_time": "2022-03-17T08:09:29.090Z"
   },
   {
    "duration": 25,
    "start_time": "2022-03-17T08:09:29.098Z"
   },
   {
    "duration": 13,
    "start_time": "2022-03-17T08:09:29.124Z"
   },
   {
    "duration": 99,
    "start_time": "2022-03-17T08:09:29.140Z"
   },
   {
    "duration": 10,
    "start_time": "2022-03-17T08:09:29.240Z"
   },
   {
    "duration": 330,
    "start_time": "2022-03-17T08:09:29.251Z"
   },
   {
    "duration": 229,
    "start_time": "2022-03-17T08:09:29.583Z"
   },
   {
    "duration": 210,
    "start_time": "2022-03-17T08:09:29.814Z"
   },
   {
    "duration": 457,
    "start_time": "2022-03-17T08:09:30.026Z"
   },
   {
    "duration": 239,
    "start_time": "2022-03-17T08:09:30.486Z"
   },
   {
    "duration": 354,
    "start_time": "2022-03-17T08:09:30.727Z"
   },
   {
    "duration": 0,
    "start_time": "2022-03-17T08:09:31.083Z"
   },
   {
    "duration": 0,
    "start_time": "2022-03-17T08:09:31.084Z"
   },
   {
    "duration": 0,
    "start_time": "2022-03-17T08:09:31.085Z"
   },
   {
    "duration": 0,
    "start_time": "2022-03-17T08:09:31.086Z"
   },
   {
    "duration": 0,
    "start_time": "2022-03-17T08:09:31.088Z"
   },
   {
    "duration": 0,
    "start_time": "2022-03-17T08:09:31.089Z"
   },
   {
    "duration": 1,
    "start_time": "2022-03-17T08:09:31.089Z"
   },
   {
    "duration": 0,
    "start_time": "2022-03-17T08:09:31.090Z"
   },
   {
    "duration": 0,
    "start_time": "2022-03-17T08:09:31.091Z"
   },
   {
    "duration": 0,
    "start_time": "2022-03-17T08:09:31.092Z"
   },
   {
    "duration": 0,
    "start_time": "2022-03-17T08:09:31.093Z"
   },
   {
    "duration": 0,
    "start_time": "2022-03-17T08:09:31.094Z"
   },
   {
    "duration": 10,
    "start_time": "2022-03-17T08:10:32.148Z"
   },
   {
    "duration": 398,
    "start_time": "2022-03-17T08:11:01.883Z"
   },
   {
    "duration": 394,
    "start_time": "2022-03-17T08:11:11.086Z"
   },
   {
    "duration": 268,
    "start_time": "2022-03-17T08:11:33.299Z"
   },
   {
    "duration": 6,
    "start_time": "2022-03-17T08:11:35.890Z"
   },
   {
    "duration": 147,
    "start_time": "2022-03-17T08:11:43.948Z"
   },
   {
    "duration": 9,
    "start_time": "2022-03-17T08:11:52.540Z"
   },
   {
    "duration": 6,
    "start_time": "2022-03-17T08:12:04.358Z"
   },
   {
    "duration": 324,
    "start_time": "2022-03-17T08:12:27.158Z"
   },
   {
    "duration": 157,
    "start_time": "2022-03-17T08:12:28.436Z"
   },
   {
    "duration": 11,
    "start_time": "2022-03-17T08:12:35.067Z"
   },
   {
    "duration": 9,
    "start_time": "2022-03-17T08:12:58.058Z"
   },
   {
    "duration": 7,
    "start_time": "2022-03-17T08:13:10.284Z"
   },
   {
    "duration": 20,
    "start_time": "2022-03-17T08:13:11.044Z"
   },
   {
    "duration": 17,
    "start_time": "2022-03-17T08:13:31.136Z"
   },
   {
    "duration": 1297,
    "start_time": "2022-05-26T12:45:20.668Z"
   },
   {
    "duration": 80,
    "start_time": "2022-05-26T12:45:21.967Z"
   },
   {
    "duration": 9,
    "start_time": "2022-05-26T12:45:22.048Z"
   },
   {
    "duration": 7,
    "start_time": "2022-05-26T12:45:22.059Z"
   },
   {
    "duration": 77,
    "start_time": "2022-05-26T12:45:22.068Z"
   },
   {
    "duration": 4,
    "start_time": "2022-05-26T12:45:22.147Z"
   },
   {
    "duration": 62,
    "start_time": "2022-05-26T12:45:22.153Z"
   },
   {
    "duration": 6,
    "start_time": "2022-05-26T12:45:22.217Z"
   },
   {
    "duration": 23,
    "start_time": "2022-05-26T12:45:22.224Z"
   },
   {
    "duration": 13,
    "start_time": "2022-05-26T12:45:22.248Z"
   },
   {
    "duration": 99,
    "start_time": "2022-05-26T12:45:22.262Z"
   },
   {
    "duration": 11,
    "start_time": "2022-05-26T12:45:22.362Z"
   },
   {
    "duration": 284,
    "start_time": "2022-05-26T12:45:22.374Z"
   },
   {
    "duration": 333,
    "start_time": "2022-05-26T12:45:22.661Z"
   },
   {
    "duration": 289,
    "start_time": "2022-05-26T12:45:22.995Z"
   },
   {
    "duration": 382,
    "start_time": "2022-05-26T12:45:23.286Z"
   },
   {
    "duration": 236,
    "start_time": "2022-05-26T12:45:23.669Z"
   },
   {
    "duration": 330,
    "start_time": "2022-05-26T12:45:23.907Z"
   },
   {
    "duration": 279,
    "start_time": "2022-05-26T12:45:24.239Z"
   },
   {
    "duration": 6,
    "start_time": "2022-05-26T12:45:24.519Z"
   },
   {
    "duration": 176,
    "start_time": "2022-05-26T12:45:24.527Z"
   },
   {
    "duration": 10,
    "start_time": "2022-05-26T12:45:24.705Z"
   },
   {
    "duration": 8,
    "start_time": "2022-05-26T12:45:24.716Z"
   },
   {
    "duration": 232,
    "start_time": "2022-05-26T12:45:24.725Z"
   },
   {
    "duration": 161,
    "start_time": "2022-05-26T12:45:24.959Z"
   },
   {
    "duration": 10,
    "start_time": "2022-05-26T12:45:25.121Z"
   },
   {
    "duration": 7,
    "start_time": "2022-05-26T12:45:25.132Z"
   },
   {
    "duration": 8,
    "start_time": "2022-05-26T12:45:25.141Z"
   },
   {
    "duration": 58,
    "start_time": "2022-05-26T12:45:25.151Z"
   },
   {
    "duration": 13,
    "start_time": "2022-05-26T12:45:25.211Z"
   }
  ],
  "kernelspec": {
   "display_name": "Python 3 (ipykernel)",
   "language": "python",
   "name": "python3"
  },
  "language_info": {
   "codemirror_mode": {
    "name": "ipython",
    "version": 3
   },
   "file_extension": ".py",
   "mimetype": "text/x-python",
   "name": "python",
   "nbconvert_exporter": "python",
   "pygments_lexer": "ipython3",
   "version": "3.7.8"
  },
  "toc": {
   "base_numbering": 1,
   "nav_menu": {},
   "number_sections": true,
   "sideBar": true,
   "skip_h1_title": true,
   "title_cell": "Table of Contents",
   "title_sidebar": "Contents",
   "toc_cell": true,
   "toc_position": {
    "height": "calc(100% - 180px)",
    "left": "10px",
    "top": "150px",
    "width": "303.6px"
   },
   "toc_section_display": true,
   "toc_window_display": true
  }
 },
 "nbformat": 4,
 "nbformat_minor": 2
}
